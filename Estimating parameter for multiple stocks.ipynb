{
 "cells": [
  {
   "cell_type": "markdown",
   "metadata": {},
   "source": [
    "# Estimating parameters for multiple stocks"
   ]
  },
  {
   "cell_type": "markdown",
   "metadata": {},
   "source": [
    "## 1. Consider $n$ stocks with models:"
   ]
  },
  {
   "cell_type": "markdown",
   "metadata": {},
   "source": [
    "$$ S_t^{(k)} = S_0^{(k)} \\cdot exp(\\mu^{(k)} t + \\sigma^{(k)} B_t^{(k)}) $$"
   ]
  },
  {
   "cell_type": "markdown",
   "metadata": {},
   "source": [
    "__Assuming $cov(B_{t}^i,B_{s}^j) = min\\{t,s\\} \\cdot \\rho_{i,j}$ __\n",
    "\n",
    "__And: __\n",
    "$$\\sigma_k B_t^{(k)} = \\sum_{i}^{k} \\sigma_{k,i} W_t^{(i)}$$\n",
    "$$\\sigma^2_k = \\sum_{j}^{min\\{k,j\\}} \\sigma^2_{k,j}$$\n",
    "\n",
    "__Or in matrix form: __\n",
    "$$\\begin{bmatrix}\n",
    "\\sigma_1 B^{(1)}\\\\\n",
    "\\sigma_2 B^{(2)}\\\\\n",
    "\\sigma_3 B^{(3)}\\\\\n",
    "...\\\\\n",
    "\\sigma_n B^{(n)}\n",
    "\\end{bmatrix}\n",
    "=\n",
    "\\begin{bmatrix}\n",
    "\\sigma_{11}  & 0 & 0 &...&0\\\\\n",
    "\\sigma_{21}  & \\sigma_{22} & 0 &...&0\\\\\n",
    "\\sigma_{31} & \\sigma_{32 }&\\sigma_{33} &... &0\\\\\n",
    "...&...&...&...&...\\\\\n",
    "\\sigma_{n1} &\\sigma_{n2} &\\sigma_{n3} &...&\\sigma_{nn}\n",
    "\\end{bmatrix}\n",
    "\\begin{bmatrix}\n",
    "W^{(1)}\\\\\n",
    "W^{(2)}\\\\\n",
    "W^{(3)}\\\\\n",
    "...\\\\\n",
    "W^{(n)}\n",
    "\\end{bmatrix}\n",
    "$$\n",
    "\n",
    "__Denote $\\{\\sigma_{i,j}\\}$ as matrix A, and $\\odot$ as Hadamard Multiplication operator: __\n",
    "$$\\sigma \\odot B = AW$$\n",
    "\n",
    "\n",
    "__Since cov(W) is just $\\delta t I$, $cov(AW) = $: __\n",
    "$$ cov(AW) = A (\\delta tI) A^T = \\delta t \\cdot AA^T $$\n",
    "\n",
    "__From historical data, $cov(\\sigma * B)$ is directly observable, a.k.a the covariance matrix of stocks log returns.__\n",
    "__Scale the covariance matrix by $t$, and decompose it into two matrix: A, A^T.__\n",
    "__Cholesky decomposition is unique, so: __\n",
    "$$A = Cholesky(\\Sigma/\\delta t)$$\n",
    "\n",
    "Since A is a low triangular, LU decomposition works too."
   ]
  },
  {
   "cell_type": "code",
   "execution_count": 104,
   "metadata": {
    "collapsed": true
   },
   "outputs": [],
   "source": [
    "import numpy as np #Handle math objects like vectors and matrixs\n",
    "import scipy as sp\n",
    "from scipy.stats import norm # Normal cdf is used\n",
    "import pandas as pd #Contains data from yahoo\n",
    "import matplotlib.pyplot as plt # Seeing is believing! --Thrall\n",
    "from datetime import datetime # Very usefull when you need to operate on date\n",
    "from datetime import timedelta # Very usefull when you need to operate on date\n",
    "from yahoo_finance import Share # API from Yahoo to fetch data\n",
    "%matplotlib inline\n",
    "float_formatter = lambda x: \"%.3f\" % x\n",
    "np.set_printoptions(formatter={'float_kind':float_formatter})\n",
    "pd.options.display.float_format = '{:20,.3f}'.format"
   ]
  },
  {
   "cell_type": "markdown",
   "metadata": {},
   "source": [
    "* Choose the stocks"
   ]
  },
  {
   "cell_type": "code",
   "execution_count": 126,
   "metadata": {
    "collapsed": true
   },
   "outputs": [],
   "source": [
    "universe = ['SPY','GOOG','AAPL','AMZN','MSFT','IBM','M','MNST','PNC','ROST','COO']"
   ]
  },
  {
   "cell_type": "code",
   "execution_count": 127,
   "metadata": {
    "collapsed": true
   },
   "outputs": [],
   "source": [
    "i = datetime.now()\n",
    "j = i - timedelta(days=252*2)\n",
    "currentDate = \"%s-%s-%s\"%(i.year,i.month,i.day)\n",
    "startDate = \"%s-%s-%s\"%(j.year,j.month,j.day)"
   ]
  },
  {
   "cell_type": "markdown",
   "metadata": {},
   "source": [
    "* M is the dataframe that stores log returns of all the stocks."
   ]
  },
  {
   "cell_type": "code",
   "execution_count": 128,
   "metadata": {
    "collapsed": false
   },
   "outputs": [],
   "source": [
    "count = 0\n",
    "for symbol in universe:\n",
    "    equity = Share(symbol)\n",
    "    df = pd.DataFrame(equity.get_historical(startDate,currentDate))\n",
    "    df.index = df.Date\n",
    "    df.drop('Date',1,inplace = True)\n",
    "    df.sort_index(inplace = True) # ,ascending = False\n",
    "    df['Adj_Close'] = pd.to_numeric(df['Adj_Close'])\n",
    "    label = symbol#+'_logReturn'\n",
    "    df[label] = np.log(1+df.Adj_Close.diff(1)/df.Adj_Close)\n",
    "#     df.fillna(0,inplace = True)\n",
    "    df.dropna(inplace = True)\n",
    "    \n",
    "    if count==0:\n",
    "        M = df[[label]].copy()\n",
    "    else:\n",
    "        M = M.join(df[[label]])\n",
    "    \n",
    "    count += 1\n"
   ]
  },
  {
   "cell_type": "markdown",
   "metadata": {},
   "source": [
    "* Solve the covariance matrix of the stocks ($cov(\\sigma B) = \\Sigma$)"
   ]
  },
  {
   "cell_type": "code",
   "execution_count": 163,
   "metadata": {
    "collapsed": false
   },
   "outputs": [
    {
     "name": "stdout",
     "output_type": "stream",
     "text": [
      "[[0.016 0.015 0.017 0.017 0.019 0.015 0.015 0.013 0.021 0.013 0.011]\n",
      " [0.015 0.037 0.020 0.032 0.028 0.014 0.009 0.019 0.015 0.016 0.014]\n",
      " [0.017 0.020 0.051 0.023 0.023 0.014 0.008 0.012 0.018 0.014 0.015]\n",
      " [0.017 0.032 0.023 0.075 0.029 0.014 -0.001 0.031 0.016 0.013 0.014]\n",
      " [0.019 0.028 0.023 0.029 0.044 0.018 0.011 0.019 0.020 0.015 0.015]\n",
      " [0.015 0.014 0.014 0.014 0.018 0.035 0.016 0.008 0.019 0.010 0.006]\n",
      " [0.015 0.009 0.008 -0.001 0.011 0.016 0.153 0.011 0.023 0.032 0.012]\n",
      " [0.013 0.019 0.012 0.031 0.019 0.008 0.011 0.072 0.007 0.016 0.011]\n",
      " [0.021 0.015 0.018 0.016 0.020 0.019 0.023 0.007 0.049 0.014 0.008]\n",
      " [0.013 0.016 0.014 0.013 0.015 0.010 0.032 0.016 0.014 0.051 0.010]\n",
      " [0.011 0.014 0.015 0.014 0.015 0.006 0.012 0.011 0.008 0.010 0.049]]\n"
     ]
    }
   ],
   "source": [
    "dt = 1/252\n",
    "covMat = np.cov(M.values.T)\n",
    "print(covMat/dt)"
   ]
  },
  {
   "cell_type": "code",
   "execution_count": 164,
   "metadata": {
    "collapsed": false
   },
   "outputs": [
    {
     "data": {
      "text/plain": [
       "<matplotlib.colorbar.Colorbar at 0x7f6c94fc35f8>"
      ]
     },
     "execution_count": 164,
     "metadata": {},
     "output_type": "execute_result"
    },
    {
     "data": {
      "image/png": "[encoded data removed]",
      "text/plain": [
       "<matplotlib.figure.Figure at 0x7f6c9502a358>"
      ]
     },
     "metadata": {},
     "output_type": "display_data"
    }
   ],
   "source": [
    "plt.imshow(covMat/dt)\n",
    "plt.colorbar()"
   ]
  },
  {
   "cell_type": "markdown",
   "metadata": {},
   "source": [
    "* Perform Cholesky on $\\Sigma$ to get A\n",
    "\n",
    "__$A = Cholesky(\\Sigma)$__"
   ]
  },
  {
   "cell_type": "code",
   "execution_count": 165,
   "metadata": {
    "collapsed": false,
    "scrolled": true
   },
   "outputs": [
    {
     "name": "stdout",
     "output_type": "stream",
     "text": [
      "[[0.127 0.000 0.000 0.000 0.000 0.000 0.000 0.000 0.000 0.000 0.000]\n",
      " [0.122 0.148 0.000 0.000 0.000 0.000 0.000 0.000 0.000 0.000 0.000]\n",
      " [0.130 0.029 0.181 0.000 0.000 0.000 0.000 0.000 0.000 0.000 0.000]\n",
      " [0.137 0.105 0.013 0.211 0.000 0.000 0.000 0.000 0.000 0.000 0.000]\n",
      " [0.148 0.068 0.010 0.005 0.132 0.000 0.000 0.000 0.000 0.000 0.000]\n",
      " [0.119 -0.005 -0.008 -0.010 0.005 0.143 0.000 0.000 0.000 0.000 0.000]\n",
      " [0.115 -0.036 -0.034 -0.061 -0.023 0.007 0.365 0.000 0.000 0.000 0.000]\n",
      " [0.101 0.044 -0.011 0.061 0.006 -0.020 0.013 0.236 0.000 0.000 0.000]\n",
      " [0.164 -0.034 -0.014 -0.013 -0.015 -0.003 0.005 -0.032 0.139 0.000 0.000]\n",
      " [0.104 0.021 0.001 -0.017 -0.013 -0.018 0.052 0.019 -0.021 0.188 0.000]\n",
      " [0.087 0.021 0.017 -0.002 0.002 -0.030 0.009 0.003 -0.036 -0.007 0.196]]\n"
     ]
    }
   ],
   "source": [
    "A = np.linalg.cholesky(covMat/dt)\n",
    "print(A)"
   ]
  },
  {
   "cell_type": "markdown",
   "metadata": {},
   "source": [
    "* Recover standard deviation of log returns of stocks $\\sigma_k$ from formula:"
   ]
  },
  {
   "cell_type": "markdown",
   "metadata": {},
   "source": [
    "$$\\sigma^2_k = \\sum_{j}^{min\\{k,j\\}} \\sigma^2_{k,j}$$"
   ]
  },
  {
   "cell_type": "code",
   "execution_count": 153,
   "metadata": {
    "collapsed": false
   },
   "outputs": [
    {
     "data": {
      "text/plain": [
       "array([0.008, 0.018, 0.025, 0.037, 0.022, 0.017, 0.077, 0.036, 0.025,\n",
       "       0.025, 0.025])"
      ]
     },
     "execution_count": 153,
     "metadata": {},
     "output_type": "execute_result"
    }
   ],
   "source": [
    "np.sum(sigma**2,axis = 1)*(0.5)"
   ]
  }
 ],
 "metadata": {
  "anaconda-cloud": {},
  "kernelspec": {
   "display_name": "Python [conda root]",
   "language": "python",
   "name": "conda-root-py"
  },
  "language_info": {
   "codemirror_mode": {
    "name": "ipython",
    "version": 3
   },
   "file_extension": ".py",
   "mimetype": "text/x-python",
   "name": "python",
   "nbconvert_exporter": "python",
   "pygments_lexer": "ipython3",
   "version": "3.5.2"
  }
 },
 "nbformat": 4,
 "nbformat_minor": 1
}
