{
 "cells": [
  {
   "cell_type": "markdown",
   "metadata": {},
   "source": [
    "# Options and Black-Scholes Model"
   ]
  },
  {
   "cell_type": "markdown",
   "metadata": {},
   "source": [
    "### This notebook demostrated how to calibrate Black-Scholes model with real-world data"
   ]
  },
  {
   "cell_type": "markdown",
   "metadata": {},
   "source": [
    "## 1. Price an option"
   ]
  },
  {
   "cell_type": "markdown",
   "metadata": {},
   "source": [
    "__Consider a call option__\n",
    "$$ dS_t = \\mu S_t dt+\\sigma S_t dW_t $$\n",
    "$$ S_t = S_0 \\cdot exp(\\mu t + \\sigma W_t) $$\n",
    "\n",
    "__Denote $F$ as the payoff at expiration $T$__\n",
    "$$ F_t = B_t \\cdot E_Q [B{_T^{-1}} F|\\mathcal{F}_t]$$"
   ]
  },
  {
   "cell_type": "markdown",
   "metadata": {},
   "source": [
    "__With Black-Scholes we explicitly have $F_t$ :__\n",
    "$$f(t,S_t) = S_t \\Phi(d_{+})-K \\cdot exp(-r\\tau) \\Phi(d_{-})$$\n",
    "$$d_{\\pm} = \\frac{1}{\\sigma \\sqrt{\\tau}} ln (\\frac{S_t}{K})+(r \\pm \\frac{\\sigma^2}{2})\\frac{\\sqrt{\\tau}}{\\sigma}$$\n",
    "\n",
    "__With Put-Call parity: __\n",
    "$$ C(t) -P(t) = S_t - B{_T^{-1}}K$$"
   ]
  },
  {
   "cell_type": "markdown",
   "metadata": {},
   "source": [
    "__Let's find the $\\mu, \\sigma,r$, and other parameters!__"
   ]
  },
  {
   "cell_type": "markdown",
   "metadata": {},
   "source": [
    "* Prepare the tools"
   ]
  },
  {
   "cell_type": "code",
   "execution_count": 8,
   "metadata": {
    "collapsed": false
   },
   "outputs": [],
   "source": [
    "import numpy as np #Handle math objects like vectors and matrixs\n",
    "from scipy.stats import norm # Normal cdf is used\n",
    "import pandas as pd #Contains data from yahoo\n",
    "import matplotlib.pyplot as plt # Seeing is believing! --Thrall\n",
    "from datetime import datetime # Very usefull when you need to operate on date\n",
    "from datetime import timedelta # Very usefull when you need to operate on date\n",
    "from yahoo_finance import Share # API from Yahoo to fetch data\n",
    "%matplotlib inline"
   ]
  },
  {
   "cell_type": "markdown",
   "metadata": {},
   "source": [
    "* Choose a stock."
   ]
  },
  {
   "cell_type": "code",
   "execution_count": 9,
   "metadata": {
    "collapsed": true
   },
   "outputs": [],
   "source": [
    "equity = Share('SPY')"
   ]
  },
  {
   "cell_type": "markdown",
   "metadata": {},
   "source": [
    "Here equity is an object instance with a lots of methods to extract data from yahoo finance"
   ]
  },
  {
   "cell_type": "code",
   "execution_count": 39,
   "metadata": {
    "collapsed": false
   },
   "outputs": [],
   "source": [
    "i = datetime.now()\n",
    "j = i - timedelta(days=(63+4))\n",
    "\n",
    "currentDate = \"%s-%s-%s\"%(i.year,i.month,i.day)\n",
    "startDate = \"%s-%s-%s\"%(j.year,j.month,j.day)"
   ]
  },
  {
   "cell_type": "markdown",
   "metadata": {},
   "source": [
    "* Fetch historical data"
   ]
  },
  {
   "cell_type": "code",
   "execution_count": 40,
   "metadata": {
    "collapsed": true
   },
   "outputs": [],
   "source": [
    "data = equity.get_historical(startDate,currentDate)"
   ]
  },
  {
   "cell_type": "markdown",
   "metadata": {},
   "source": [
    "_data_ is a list of dictionaries which contains infos more than just price. Take a look."
   ]
  },
  {
   "cell_type": "code",
   "execution_count": 41,
   "metadata": {
    "collapsed": false
   },
   "outputs": [
    {
     "data": {
      "text/plain": [
       "[{'Adj_Close': '235.539993',\n",
       "  'Close': '235.539993',\n",
       "  'Date': '2017-03-29',\n",
       "  'High': '235.809998',\n",
       "  'Low': '234.729996',\n",
       "  'Open': '234.990005',\n",
       "  'Symbol': 'SPY',\n",
       "  'Volume': '53156500'},\n",
       " {'Adj_Close': '235.320007',\n",
       "  'Close': '235.320007',\n",
       "  'Date': '2017-03-28',\n",
       "  'High': '235.809998',\n",
       "  'Low': '233.139999',\n",
       "  'Open': '233.270004',\n",
       "  'Symbol': 'SPY',\n",
       "  'Volume': '93483900'},\n",
       " {'Adj_Close': '233.619995',\n",
       "  'Close': '233.619995',\n",
       "  'Date': '2017-03-27',\n",
       "  'High': '233.919998',\n",
       "  'Low': '231.610001',\n",
       "  'Open': '231.929993',\n",
       "  'Symbol': 'SPY',\n",
       "  'Volume': '87454500'}]"
      ]
     },
     "execution_count": 41,
     "metadata": {},
     "output_type": "execute_result"
    }
   ],
   "source": [
    "data[0:3]"
   ]
  },
  {
   "cell_type": "markdown",
   "metadata": {},
   "source": [
    "_data_ is very well organized. Pandas.DataFrame is the perfect tool to convert this list into a table."
   ]
  },
  {
   "cell_type": "code",
   "execution_count": 42,
   "metadata": {
    "collapsed": false,
    "scrolled": true
   },
   "outputs": [
    {
     "data": {
      "text/html": [
       "<div>\n",
       "<table border=\"1\" class=\"dataframe\">\n",
       "  <thead>\n",
       "    <tr style=\"text-align: right;\">\n",
       "      <th></th>\n",
       "      <th>Adj_Close</th>\n",
       "      <th>Close</th>\n",
       "      <th>High</th>\n",
       "      <th>Low</th>\n",
       "      <th>Open</th>\n",
       "      <th>Symbol</th>\n",
       "      <th>Volume</th>\n",
       "    </tr>\n",
       "    <tr>\n",
       "      <th>Date</th>\n",
       "      <th></th>\n",
       "      <th></th>\n",
       "      <th></th>\n",
       "      <th></th>\n",
       "      <th></th>\n",
       "      <th></th>\n",
       "      <th></th>\n",
       "    </tr>\n",
       "  </thead>\n",
       "  <tbody>\n",
       "    <tr>\n",
       "      <th>2017-01-23</th>\n",
       "      <td>225.170405</td>\n",
       "      <td>226.149994</td>\n",
       "      <td>226.809998</td>\n",
       "      <td>225.270004</td>\n",
       "      <td>226.740005</td>\n",
       "      <td>SPY</td>\n",
       "      <td>75061600</td>\n",
       "    </tr>\n",
       "    <tr>\n",
       "      <th>2017-01-24</th>\n",
       "      <td>226.614136</td>\n",
       "      <td>227.600006</td>\n",
       "      <td>228.080002</td>\n",
       "      <td>226.270004</td>\n",
       "      <td>226.399994</td>\n",
       "      <td>SPY</td>\n",
       "      <td>95555300</td>\n",
       "    </tr>\n",
       "    <tr>\n",
       "      <th>2017-01-25</th>\n",
       "      <td>228.575604</td>\n",
       "      <td>229.570007</td>\n",
       "      <td>229.570007</td>\n",
       "      <td>228.509995</td>\n",
       "      <td>228.699997</td>\n",
       "      <td>SPY</td>\n",
       "      <td>84437700</td>\n",
       "    </tr>\n",
       "    <tr>\n",
       "      <th>2017-01-26</th>\n",
       "      <td>228.336639</td>\n",
       "      <td>229.330002</td>\n",
       "      <td>229.710007</td>\n",
       "      <td>229.009995</td>\n",
       "      <td>229.399994</td>\n",
       "      <td>SPY</td>\n",
       "      <td>59970700</td>\n",
       "    </tr>\n",
       "    <tr>\n",
       "      <th>2017-01-27</th>\n",
       "      <td>227.978197</td>\n",
       "      <td>228.970001</td>\n",
       "      <td>229.589996</td>\n",
       "      <td>228.759995</td>\n",
       "      <td>229.419998</td>\n",
       "      <td>SPY</td>\n",
       "      <td>59711100</td>\n",
       "    </tr>\n",
       "  </tbody>\n",
       "</table>\n",
       "</div>"
      ],
      "text/plain": [
       "             Adj_Close       Close        High         Low        Open Symbol  \\\n",
       "Date                                                                            \n",
       "2017-01-23  225.170405  226.149994  226.809998  225.270004  226.740005    SPY   \n",
       "2017-01-24  226.614136  227.600006  228.080002  226.270004  226.399994    SPY   \n",
       "2017-01-25  228.575604  229.570007  229.570007  228.509995  228.699997    SPY   \n",
       "2017-01-26  228.336639  229.330002  229.710007  229.009995  229.399994    SPY   \n",
       "2017-01-27  227.978197  228.970001  229.589996  228.759995  229.419998    SPY   \n",
       "\n",
       "              Volume  \n",
       "Date                  \n",
       "2017-01-23  75061600  \n",
       "2017-01-24  95555300  \n",
       "2017-01-25  84437700  \n",
       "2017-01-26  59970700  \n",
       "2017-01-27  59711100  "
      ]
     },
     "execution_count": 42,
     "metadata": {},
     "output_type": "execute_result"
    }
   ],
   "source": [
    "df = pd.DataFrame(data)\n",
    "df.index = df.Date\n",
    "df.drop('Date',1,inplace = True)\n",
    "# df.set_value('2017-03-27',['Adj_Close','Close','High','Low','Open','Symbol','Volume'],[4.60,4.60,4.65,4.51,4.55,'RAD',8040000])\n",
    "df.sort_index(inplace = True) # ,ascending = False\n",
    "df.head()"
   ]
  },
  {
   "cell_type": "code",
   "execution_count": 43,
   "metadata": {
    "collapsed": false
   },
   "outputs": [
    {
     "data": {
      "text/plain": [
       "[<matplotlib.lines.Line2D at 0x7f2c7d969898>]"
      ]
     },
     "execution_count": 43,
     "metadata": {},
     "output_type": "execute_result"
    },
    {
     "data": {
      "image/png": "[encoded data removed]",
      "text/plain": [
       "<matplotlib.figure.Figure at 0x7f2c80419cc0>"
      ]
     },
     "metadata": {},
     "output_type": "display_data"
    }
   ],
   "source": [
    "plt.plot(df.Adj_Close.values)"
   ]
  },
  {
   "cell_type": "markdown",
   "metadata": {},
   "source": [
    "__Unfortunely, Yahoo sent us the data as strings! (WHY?!!?)__\n"
   ]
  },
  {
   "cell_type": "code",
   "execution_count": 44,
   "metadata": {
    "collapsed": false
   },
   "outputs": [
    {
     "data": {
      "text/plain": [
       "str"
      ]
     },
     "execution_count": 44,
     "metadata": {},
     "output_type": "execute_result"
    }
   ],
   "source": [
    "type(df.Adj_Close.values[1])"
   ]
  },
  {
   "cell_type": "markdown",
   "metadata": {},
   "source": [
    "Convert strings to numerics:"
   ]
  },
  {
   "cell_type": "code",
   "execution_count": 45,
   "metadata": {
    "collapsed": true
   },
   "outputs": [],
   "source": [
    "numCol = ['Adj_Close','Close','High','Low','Open','Volume']\n",
    "\n",
    "for col in numCol:\n",
    "    df[col] = pd.to_numeric(df[col])"
   ]
  },
  {
   "cell_type": "code",
   "execution_count": 46,
   "metadata": {
    "collapsed": false
   },
   "outputs": [
    {
     "data": {
      "text/plain": [
       "numpy.float64"
      ]
     },
     "execution_count": 46,
     "metadata": {},
     "output_type": "execute_result"
    }
   ],
   "source": [
    "type(df.Adj_Close.values[1])"
   ]
  },
  {
   "cell_type": "markdown",
   "metadata": {},
   "source": [
    "Compute the log return"
   ]
  },
  {
   "cell_type": "code",
   "execution_count": 47,
   "metadata": {
    "collapsed": false
   },
   "outputs": [],
   "source": [
    "df['logReturn'] = np.log(1+df.Adj_Close.diff(1)/df.Adj_Close)\n",
    "df.fillna(0,inplace = True)"
   ]
  },
  {
   "cell_type": "code",
   "execution_count": 85,
   "metadata": {
    "collapsed": false
   },
   "outputs": [
    {
     "name": "stdout",
     "output_type": "stream",
     "text": [
      "0.238666682006 0.0706813669425\n"
     ]
    }
   ],
   "source": [
    "\n",
    "sigma = np.sqrt(np.var(df[['logReturn']].values)*252)\n",
    "mu = np.mean(df[['logReturn']].values)*252+0.5*sigma**2\n",
    "print(mu,sigma)"
   ]
  },
  {
   "cell_type": "markdown",
   "metadata": {},
   "source": [
    "LIBOR is 1.16% and other parameters"
   ]
  },
  {
   "cell_type": "markdown",
   "metadata": {},
   "source": [
    "$\\Delta$"
   ]
  },
  {
   "cell_type": "code",
   "execution_count": 49,
   "metadata": {
    "collapsed": false
   },
   "outputs": [],
   "source": [
    "r = 0.0116\n",
    "# expires at July 17\n",
    "tau = 116/252\n",
    "K = 235\n",
    "S = df['Adj_Close'].loc['2017-03-27']\n",
    "call_True = 5.5"
   ]
  },
  {
   "cell_type": "markdown",
   "metadata": {},
   "source": [
    "* Write a Black-Scholes function"
   ]
  },
  {
   "cell_type": "code",
   "execution_count": 93,
   "metadata": {
    "collapsed": false
   },
   "outputs": [],
   "source": [
    "def BS(vec):\n",
    "    r,sigma,tau,K,S = vec\n",
    "    B = np.exp(r*tau)\n",
    "    dp = 1/(sigma*np.sqrt(tau))*np.log(S/K)+(r+(sigma**2)/2)*(np.sqrt(tau)/sigma)\n",
    "    dm = dp - sigma*np.sqrt(tau)\n",
    "    call = S*norm.cdf(dp)-(K/B)*norm.cdf(dm)\n",
    "    put = call - (S-(K/B))\n",
    "    delta = norm.cdf(dp)\n",
    "    gamma = norm.pdf(dp)/(sigma*np.sqrt(tau)*S)\n",
    "    return(call,put,delta,gamma)"
   ]
  },
  {
   "cell_type": "code",
   "execution_count": 64,
   "metadata": {
    "collapsed": false,
    "scrolled": true
   },
   "outputs": [
    {
     "data": {
      "text/html": [
       "<div>\n",
       "<table border=\"1\" class=\"dataframe\">\n",
       "  <thead>\n",
       "    <tr style=\"text-align: right;\">\n",
       "      <th></th>\n",
       "      <th>Date</th>\n",
       "      <th>Strike</th>\n",
       "      <th>Call</th>\n",
       "      <th>Put</th>\n",
       "    </tr>\n",
       "  </thead>\n",
       "  <tbody>\n",
       "    <tr>\n",
       "      <th>0</th>\n",
       "      <td>2017-03-27</td>\n",
       "      <td>230</td>\n",
       "      <td>8.74</td>\n",
       "      <td>5.62</td>\n",
       "    </tr>\n",
       "    <tr>\n",
       "      <th>1</th>\n",
       "      <td>2017-03-27</td>\n",
       "      <td>235</td>\n",
       "      <td>5.50</td>\n",
       "      <td>7.14</td>\n",
       "    </tr>\n",
       "    <tr>\n",
       "      <th>2</th>\n",
       "      <td>2017-03-27</td>\n",
       "      <td>240</td>\n",
       "      <td>2.97</td>\n",
       "      <td>9.79</td>\n",
       "    </tr>\n",
       "  </tbody>\n",
       "</table>\n",
       "</div>"
      ],
      "text/plain": [
       "         Date  Strike  Call   Put\n",
       "0  2017-03-27     230  8.74  5.62\n",
       "1  2017-03-27     235  5.50  7.14\n",
       "2  2017-03-27     240  2.97  9.79"
      ]
     },
     "execution_count": 64,
     "metadata": {},
     "output_type": "execute_result"
    }
   ],
   "source": [
    "options = [{\"Strike\":230,\n",
    "          \"Call\":8.74,\n",
    "           \"Put\":5.62},\n",
    "         {\"Strike\":235,\n",
    "          \"Call\":5.5,\n",
    "          \"Put\":7.14},\n",
    "         {\"Strike\":240,\n",
    "          \"Call\":2.97,\n",
    "          \"Put\":9.79}]\n",
    "options_df = pd.DataFrame(options)\n",
    "options_df['Date']  = '2017-03-27'\n",
    "options_df = options_df[['Date','Strike','Call','Put']]\n",
    "options_df"
   ]
  },
  {
   "cell_type": "code",
   "execution_count": 563,
   "metadata": {
    "collapsed": true
   },
   "outputs": [],
   "source": [
    "#r,sigma,tau,K,S = vec"
   ]
  },
  {
   "cell_type": "code",
   "execution_count": 100,
   "metadata": {
    "collapsed": false
   },
   "outputs": [
    {
     "name": "stdout",
     "output_type": "stream",
     "text": [
      "4.40627956113 4.53480339391 0.504990086896 0.035606756555\n"
     ]
    }
   ],
   "source": [
    "call,put,delta,gamma = BS([r,sigma,tau,K,S])\n",
    "\n",
    "print(call,put,delta,gamma)"
   ]
  },
  {
   "cell_type": "code",
   "execution_count": 77,
   "metadata": {
    "collapsed": false
   },
   "outputs": [
    {
     "data": {
      "text/plain": [
       "(7.2607032117060157, 2.4158543033659328, 0.6775918143320081)"
      ]
     },
     "execution_count": 77,
     "metadata": {},
     "output_type": "execute_result"
    }
   ],
   "source": [
    "BS([r,sigma,tau,options_df.loc[index,'Strike'],S])"
   ]
  },
  {
   "cell_type": "markdown",
   "metadata": {},
   "source": [
    "$\\bar{X}$\n",
    "$\\sqrt{11111111}$"
   ]
  },
  {
   "cell_type": "code",
   "execution_count": 81,
   "metadata": {
    "collapsed": false
   },
   "outputs": [
    {
     "data": {
      "text/html": [
       "<div>\n",
       "<table border=\"1\" class=\"dataframe\">\n",
       "  <thead>\n",
       "    <tr style=\"text-align: right;\">\n",
       "      <th></th>\n",
       "      <th>Date</th>\n",
       "      <th>Strike</th>\n",
       "      <th>Call</th>\n",
       "      <th>Put</th>\n",
       "      <th>BS-Call</th>\n",
       "      <th>BS-Put</th>\n",
       "    </tr>\n",
       "  </thead>\n",
       "  <tbody>\n",
       "    <tr>\n",
       "      <th>0</th>\n",
       "      <td>2017-03-27</td>\n",
       "      <td>230</td>\n",
       "      <td>8.74</td>\n",
       "      <td>5.62</td>\n",
       "      <td>7.260703</td>\n",
       "      <td>2.415854</td>\n",
       "    </tr>\n",
       "    <tr>\n",
       "      <th>1</th>\n",
       "      <td>2017-03-27</td>\n",
       "      <td>235</td>\n",
       "      <td>5.50</td>\n",
       "      <td>7.14</td>\n",
       "      <td>4.406280</td>\n",
       "      <td>4.534803</td>\n",
       "    </tr>\n",
       "    <tr>\n",
       "      <th>2</th>\n",
       "      <td>2017-03-27</td>\n",
       "      <td>240</td>\n",
       "      <td>2.97</td>\n",
       "      <td>9.79</td>\n",
       "      <td>2.417594</td>\n",
       "      <td>7.519490</td>\n",
       "    </tr>\n",
       "  </tbody>\n",
       "</table>\n",
       "</div>"
      ],
      "text/plain": [
       "         Date  Strike  Call   Put   BS-Call    BS-Put\n",
       "0  2017-03-27     230  8.74  5.62  7.260703  2.415854\n",
       "1  2017-03-27     235  5.50  7.14  4.406280  4.534803\n",
       "2  2017-03-27     240  2.97  9.79  2.417594  7.519490"
      ]
     },
     "execution_count": 81,
     "metadata": {},
     "output_type": "execute_result"
    }
   ],
   "source": [
    "for index in options_df.index:\n",
    "    BSCall,BSPut,BSDelta = BS([r,sigma,tau,options_df.loc[index,'Strike'],S])\n",
    "    options_df.set_value(index,['BS-Call','BS-Put'],[BSCall,BSPut])\n",
    "    \n",
    "options_df"
   ]
  },
  {
   "cell_type": "markdown",
   "metadata": {},
   "source": [
    "## 2. Implied Vol and Vol Smile"
   ]
  },
  {
   "cell_type": "markdown",
   "metadata": {},
   "source": [
    "Here we solve for the implied vol numerically, formally solving this:"
   ]
  },
  {
   "cell_type": "markdown",
   "metadata": {},
   "source": [
    "$$ min_\\sigma ||BS(\\sigma)-Call^{*}||{_2^2}$$"
   ]
  },
  {
   "cell_type": "markdown",
   "metadata": {},
   "source": [
    "Where $Call^*$ is the vector of actual call prices."
   ]
  },
  {
   "cell_type": "markdown",
   "metadata": {},
   "source": [
    "* Write a line-search function to find Implied Vol Numerically so that we can call it to get the vol smile later"
   ]
  },
  {
   "cell_type": "code",
   "execution_count": 53,
   "metadata": {
    "collapsed": false
   },
   "outputs": [],
   "source": [
    "def IV(vec):\n",
    "    r,tau,K,S,call = vec\n",
    "    error = []\n",
    "    sigmaList = (pd.Series(range(0,4000))+1)/2000 #search from 0 to 2.0\n",
    "    for sigma in sigmaList:\n",
    "        error.append((BS([r,sigma,tau,K,S])[0]-call)**2)\n",
    "    loc = np.argmin(error)\n",
    "    return(sigmaList[loc])"
   ]
  },
  {
   "cell_type": "code",
   "execution_count": 56,
   "metadata": {
    "collapsed": false
   },
   "outputs": [
    {
     "name": "stdout",
     "output_type": "stream",
     "text": [
      "8.8 %\n"
     ]
    }
   ],
   "source": [
    "print(IV([r,tau,K,S,call_True])*100,'%')"
   ]
  },
  {
   "cell_type": "markdown",
   "metadata": {},
   "source": [
    "This result is __not close__ to the one provided by Optionshouse.com (12.74%) or fintools.com (10.94%)"
   ]
  },
  {
   "cell_type": "markdown",
   "metadata": {},
   "source": [
    "Now we loop through an options chain to get vol smile:"
   ]
  },
  {
   "cell_type": "code",
   "execution_count": 57,
   "metadata": {
    "collapsed": false
   },
   "outputs": [],
   "source": [
    "strikeList = pd.Series(range(210,260,5)).tolist()\n",
    "callList = [25.48,20.94,16.58,12.47,8.74,5.50,2.97,1.32,0.50,0.185]\n",
    "\n",
    "n = len(callList)"
   ]
  },
  {
   "cell_type": "code",
   "execution_count": 60,
   "metadata": {
    "collapsed": false
   },
   "outputs": [
    {
     "name": "stdout",
     "output_type": "stream",
     "text": [
      "[210, 215, 220, 225, 230, 235, 240, 245, 250, 255]\n",
      "[25.48, 20.94, 16.58, 12.47, 8.74, 5.5, 2.97, 1.32, 0.5, 0.185]\n"
     ]
    }
   ],
   "source": [
    "print(strikeList)\n",
    "print(callList)"
   ]
  },
  {
   "cell_type": "code",
   "execution_count": 58,
   "metadata": {
    "collapsed": false,
    "scrolled": true
   },
   "outputs": [],
   "source": [
    "volList = list(map(lambda ind: IV([r,tau,strikeList[ind],S,callList[ind]]), list(range(n))))"
   ]
  },
  {
   "cell_type": "code",
   "execution_count": 59,
   "metadata": {
    "collapsed": false,
    "scrolled": true
   },
   "outputs": [
    {
     "data": {
      "text/plain": [
       "<matplotlib.text.Text at 0x7f2c7d8c94a8>"
      ]
     },
     "execution_count": 59,
     "metadata": {},
     "output_type": "execute_result"
    },
    {
     "data": {
      "image/png": "[encoded data removed]",
      "text/plain": [
       "<matplotlib.figure.Figure at 0x7f2c7d917ef0>"
      ]
     },
     "metadata": {},
     "output_type": "display_data"
    }
   ],
   "source": [
    "plt.plot(strikeList,volList)\n",
    "plt.savefig('SPY_vol_smile_03-27.png')\n",
    "plt.title(\"Vol Smile\")"
   ]
  },
  {
   "cell_type": "markdown",
   "metadata": {},
   "source": [
    "Estimate the impact of stock price change to the option prices:\n",
    "\n",
    "From Taylor expansion, we have:\\\\\n",
    "$$\\Delta F = \\nabla_S F \\cdot \\Delta S + \\epsilon$$\n",
    "To make more accurate estimate, we can utilize the second-order information:\n",
    "$$\\Delta F = \\nabla_S F \\cdot \\Delta S +\\frac{1}{2}\\nabla^2_S F \\cdot \\Delta^2 S + \\epsilon$$\n",
    "$$\\Delta =  \\Phi(d+)$$\n",
    "$$\\Gamma = \\phi(d+) \\frac{1}{\\sigma \\sqrt{\\tau}S}$$"
   ]
  },
  {
   "cell_type": "markdown",
   "metadata": {},
   "source": [
    "With only first order method"
   ]
  },
  {
   "cell_type": "code",
   "execution_count": 102,
   "metadata": {
    "collapsed": false,
    "scrolled": true
   },
   "outputs": [
    {
     "name": "stdout",
     "output_type": "stream",
     "text": [
      "Call price change estimated by delta is 1.32\n",
      "True Call price change is 1.40\n"
     ]
    }
   ],
   "source": [
    "S1 = 236.235\n",
    "dS = S1 - S\n",
    "dC_hat = dS*delta\n",
    "dC_True = 6.90-call_True\n",
    "print('Call price change estimated by delta is %.2f' % dC_hat)\n",
    "print('True Call price change is %.2f' % dC_True)"
   ]
  },
  {
   "cell_type": "markdown",
   "metadata": {},
   "source": [
    "With second-order information"
   ]
  },
  {
   "cell_type": "code",
   "execution_count": 103,
   "metadata": {
    "collapsed": false
   },
   "outputs": [
    {
     "name": "stdout",
     "output_type": "stream",
     "text": [
      "Call price change estimated by delta is 1.44\n",
      "True Call price change is 1.40\n"
     ]
    }
   ],
   "source": [
    "dC_hat = dS*delta+0.5*gamma*(dS**2)\n",
    "print('Call price change estimated by delta is %.2f' % dC_hat)\n",
    "print('True Call price change is %.2f' % dC_True)"
   ]
  }
 ],
 "metadata": {
  "anaconda-cloud": {},
  "kernelspec": {
   "display_name": "Python [conda root]",
   "language": "python",
   "name": "conda-root-py"
  },
  "language_info": {
   "codemirror_mode": {
    "name": "ipython",
    "version": 3
   },
   "file_extension": ".py",
   "mimetype": "text/x-python",
   "name": "python",
   "nbconvert_exporter": "python",
   "pygments_lexer": "ipython3",
   "version": "3.5.2"
  }
 },
 "nbformat": 4,
 "nbformat_minor": 1
}
