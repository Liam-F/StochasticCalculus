{
 "cells": [
  {
   "cell_type": "markdown",
   "metadata": {},
   "source": [
    "# Options and Black-Scholes Model"
   ]
  },
  {
   "cell_type": "markdown",
   "metadata": {},
   "source": [
    "### This notebook demostrated how to calibrate Black-Scholes model with real-world data"
   ]
  },
  {
   "cell_type": "markdown",
   "metadata": {},
   "source": [
    "## 1. Price an option"
   ]
  },
  {
   "cell_type": "markdown",
   "metadata": {},
   "source": [
    "__Consider a call option__\n",
    "$$ dS_t = \\mu S_t dt+\\sigma S_t dW_t $$\n",
    "$$ S_t = S_0 \\cdot exp(\\mu t + \\sigma W_t) $$\n",
    "\n",
    "__Denote $F$ as the payoff at expiration $T$__\n",
    "$$ F_t = B_t \\cdot E_Q [B{_T^{-1}} F|\\mathcal{F}_t]$$"
   ]
  },
  {
   "cell_type": "markdown",
   "metadata": {},
   "source": [
    "__With Black-Scholes we explicitly have $F_t$ :__\n",
    "$$f(t,S_t) = S_t \\Phi(d_{+})-K \\cdot exp(-r\\tau) \\Phi(d_{-})$$\n",
    "$$d_{\\pm} = \\frac{1}{\\sigma \\sqrt{\\tau}} ln (\\frac{S_t}{K})+(r \\pm \\frac{\\sigma^2}{2})\\frac{\\sqrt{\\tau}}{\\sigma}$$\n",
    "\n",
    "__With Put-Call parity: __\n",
    "$$ C(t) -P(t) = S_t - B{_T^{-1}}K$$"
   ]
  },
  {
   "cell_type": "markdown",
   "metadata": {},
   "source": [
    "__Let's find the $\\mu, \\sigma,r$, and other parameters!__"
   ]
  },
  {
   "cell_type": "markdown",
   "metadata": {},
   "source": [
    "* Prepare the tools"
   ]
  },
  {
   "cell_type": "code",
   "execution_count": 2,
   "metadata": {
    "collapsed": false
   },
   "outputs": [],
   "source": [
    "import numpy as np #Handle math objects like vectors and matrixs\n",
    "from scipy.stats import norm # Normal cdf is used\n",
    "import pandas as pd #Contains data from yahoo\n",
    "import matplotlib.pyplot as plt # Seeing is believing! --Thrall\n",
    "from datetime import datetime # Very usefull when you need to operate on date\n",
    "from datetime import timedelta # Very usefull when you need to operate on date\n",
    "from yahoo_finance import Share # API from Yahoo to fetch data\n",
    "%matplotlib inline"
   ]
  },
  {
   "cell_type": "markdown",
   "metadata": {},
   "source": [
    "* Choose a stock."
   ]
  },
  {
   "cell_type": "code",
   "execution_count": 329,
   "metadata": {
    "collapsed": true
   },
   "outputs": [],
   "source": [
    "equity = Share('SPY')"
   ]
  },
  {
   "cell_type": "markdown",
   "metadata": {},
   "source": [
    "Here equity is an object instance with a lots of methods to extract data from yahoo finance"
   ]
  },
  {
   "cell_type": "code",
   "execution_count": 330,
   "metadata": {
    "collapsed": false
   },
   "outputs": [],
   "source": [
    "i = datetime.now()\n",
    "j = i - timedelta(days=365*5)\n",
    "\n",
    "currentDate = \"%s-%s-%s\"%(i.year,i.month,i.day)\n",
    "startDate = \"%s-%s-%s\"%(j.year,j.month,j.day)"
   ]
  },
  {
   "cell_type": "markdown",
   "metadata": {},
   "source": [
    "* Fetch historical data"
   ]
  },
  {
   "cell_type": "code",
   "execution_count": 331,
   "metadata": {
    "collapsed": true
   },
   "outputs": [],
   "source": [
    "data = equity.get_historical(startDate,currentDate)"
   ]
  },
  {
   "cell_type": "markdown",
   "metadata": {},
   "source": [
    "_data_ is a list of dictionaries which contains infos more than just price. Take a look."
   ]
  },
  {
   "cell_type": "code",
   "execution_count": 332,
   "metadata": {
    "collapsed": false
   },
   "outputs": [
    {
     "data": {
      "text/plain": [
       "[{'Adj_Close': '233.619995',\n",
       "  'Close': '233.619995',\n",
       "  'Date': '2017-03-27',\n",
       "  'High': '233.919998',\n",
       "  'Low': '231.610001',\n",
       "  'Open': '231.929993',\n",
       "  'Symbol': 'SPY',\n",
       "  'Volume': '86296100'},\n",
       " {'Adj_Close': '233.860001',\n",
       "  'Close': '233.860001',\n",
       "  'Date': '2017-03-24',\n",
       "  'High': '235.039993',\n",
       "  'Low': '232.960007',\n",
       "  'Open': '234.380005',\n",
       "  'Symbol': 'SPY',\n",
       "  'Volume': '107532300'},\n",
       " {'Adj_Close': '234.029999',\n",
       "  'Close': '234.029999',\n",
       "  'Date': '2017-03-23',\n",
       "  'High': '235.339996',\n",
       "  'Low': '233.600006',\n",
       "  'Open': '234.279999',\n",
       "  'Symbol': 'SPY',\n",
       "  'Volume': '100410300'}]"
      ]
     },
     "execution_count": 332,
     "metadata": {},
     "output_type": "execute_result"
    }
   ],
   "source": [
    "data[0:3]"
   ]
  },
  {
   "cell_type": "markdown",
   "metadata": {},
   "source": [
    "_data_ is very well organized. Pandas.DataFrame is the perfect tool to convert this list into a table."
   ]
  },
  {
   "cell_type": "code",
   "execution_count": 333,
   "metadata": {
    "collapsed": false,
    "scrolled": true
   },
   "outputs": [
    {
     "data": {
      "text/html": [
       "<div>\n",
       "<table border=\"1\" class=\"dataframe\">\n",
       "  <thead>\n",
       "    <tr style=\"text-align: right;\">\n",
       "      <th></th>\n",
       "      <th>Adj_Close</th>\n",
       "      <th>Close</th>\n",
       "      <th>High</th>\n",
       "      <th>Low</th>\n",
       "      <th>Open</th>\n",
       "      <th>Symbol</th>\n",
       "      <th>Volume</th>\n",
       "    </tr>\n",
       "    <tr>\n",
       "      <th>Date</th>\n",
       "      <th></th>\n",
       "      <th></th>\n",
       "      <th></th>\n",
       "      <th></th>\n",
       "      <th></th>\n",
       "      <th></th>\n",
       "      <th></th>\n",
       "    </tr>\n",
       "  </thead>\n",
       "  <tbody>\n",
       "    <tr>\n",
       "      <th>2012-03-29</th>\n",
       "      <td>126.515834</td>\n",
       "      <td>140.229996</td>\n",
       "      <td>140.490005</td>\n",
       "      <td>139.089996</td>\n",
       "      <td>139.639999</td>\n",
       "      <td>SPY</td>\n",
       "      <td>164963700</td>\n",
       "    </tr>\n",
       "    <tr>\n",
       "      <th>2012-03-30</th>\n",
       "      <td>127.039113</td>\n",
       "      <td>140.809998</td>\n",
       "      <td>141.050003</td>\n",
       "      <td>140.050003</td>\n",
       "      <td>140.919998</td>\n",
       "      <td>SPY</td>\n",
       "      <td>135486800</td>\n",
       "    </tr>\n",
       "    <tr>\n",
       "      <th>2012-04-02</th>\n",
       "      <td>127.968381</td>\n",
       "      <td>141.839996</td>\n",
       "      <td>142.210007</td>\n",
       "      <td>140.360001</td>\n",
       "      <td>140.639999</td>\n",
       "      <td>SPY</td>\n",
       "      <td>151741100</td>\n",
       "    </tr>\n",
       "    <tr>\n",
       "      <th>2012-04-03</th>\n",
       "      <td>127.445102</td>\n",
       "      <td>141.259995</td>\n",
       "      <td>141.880005</td>\n",
       "      <td>140.429993</td>\n",
       "      <td>141.639999</td>\n",
       "      <td>SPY</td>\n",
       "      <td>155806700</td>\n",
       "    </tr>\n",
       "    <tr>\n",
       "      <th>2012-04-04</th>\n",
       "      <td>126.182024</td>\n",
       "      <td>139.860001</td>\n",
       "      <td>140.339996</td>\n",
       "      <td>139.339996</td>\n",
       "      <td>140.220001</td>\n",
       "      <td>SPY</td>\n",
       "      <td>146896000</td>\n",
       "    </tr>\n",
       "  </tbody>\n",
       "</table>\n",
       "</div>"
      ],
      "text/plain": [
       "             Adj_Close       Close        High         Low        Open Symbol  \\\n",
       "Date                                                                            \n",
       "2012-03-29  126.515834  140.229996  140.490005  139.089996  139.639999    SPY   \n",
       "2012-03-30  127.039113  140.809998  141.050003  140.050003  140.919998    SPY   \n",
       "2012-04-02  127.968381  141.839996  142.210007  140.360001  140.639999    SPY   \n",
       "2012-04-03  127.445102  141.259995  141.880005  140.429993  141.639999    SPY   \n",
       "2012-04-04  126.182024  139.860001  140.339996  139.339996  140.220001    SPY   \n",
       "\n",
       "               Volume  \n",
       "Date                   \n",
       "2012-03-29  164963700  \n",
       "2012-03-30  135486800  \n",
       "2012-04-02  151741100  \n",
       "2012-04-03  155806700  \n",
       "2012-04-04  146896000  "
      ]
     },
     "execution_count": 333,
     "metadata": {},
     "output_type": "execute_result"
    }
   ],
   "source": [
    "df = pd.DataFrame(data)\n",
    "df.index = df.Date\n",
    "df.drop('Date',1,inplace = True)\n",
    "# df.set_value('2017-03-27',['Adj_Close','Close','High','Low','Open','Symbol','Volume'],[4.60,4.60,4.65,4.51,4.55,'RAD',8040000])\n",
    "df.sort_index(inplace = True) # ,ascending = False\n",
    "df.head()"
   ]
  },
  {
   "cell_type": "code",
   "execution_count": 334,
   "metadata": {
    "collapsed": false
   },
   "outputs": [
    {
     "data": {
      "text/plain": [
       "[<matplotlib.lines.Line2D at 0x7fb12b7bff28>]"
      ]
     },
     "execution_count": 334,
     "metadata": {},
     "output_type": "execute_result"
    },
    {
     "data": {
      "image/png": "[encoded data removed]",
      "text/plain": [
       "<matplotlib.figure.Figure at 0x7fb12b95e9e8>"
      ]
     },
     "metadata": {},
     "output_type": "display_data"
    }
   ],
   "source": [
    "plt.plot(df.Adj_Close.values)"
   ]
  },
  {
   "cell_type": "markdown",
   "metadata": {},
   "source": [
    "__Unfortunely, Yahoo sent us the data as strings! (WHY?!!?)__\n"
   ]
  },
  {
   "cell_type": "code",
   "execution_count": 335,
   "metadata": {
    "collapsed": false
   },
   "outputs": [
    {
     "data": {
      "text/plain": [
       "str"
      ]
     },
     "execution_count": 335,
     "metadata": {},
     "output_type": "execute_result"
    }
   ],
   "source": [
    "type(df.Adj_Close.values[1])"
   ]
  },
  {
   "cell_type": "markdown",
   "metadata": {},
   "source": [
    "Convert strings to numerics:"
   ]
  },
  {
   "cell_type": "code",
   "execution_count": 336,
   "metadata": {
    "collapsed": true
   },
   "outputs": [],
   "source": [
    "numCol = ['Adj_Close','Close','High','Low','Open','Volume']\n",
    "\n",
    "for col in numCol:\n",
    "    df[col] = pd.to_numeric(df[col])"
   ]
  },
  {
   "cell_type": "code",
   "execution_count": 337,
   "metadata": {
    "collapsed": false
   },
   "outputs": [
    {
     "data": {
      "text/plain": [
       "numpy.float64"
      ]
     },
     "execution_count": 337,
     "metadata": {},
     "output_type": "execute_result"
    }
   ],
   "source": [
    "type(df.Adj_Close.values[1])"
   ]
  },
  {
   "cell_type": "markdown",
   "metadata": {},
   "source": [
    "Compute the log return"
   ]
  },
  {
   "cell_type": "code",
   "execution_count": 338,
   "metadata": {
    "collapsed": false
   },
   "outputs": [],
   "source": [
    "df['logReturn'] = np.log(1+df.Adj_Close.diff(1)/df.Adj_Close)\n",
    "df.fillna(0,inplace = True)"
   ]
  },
  {
   "cell_type": "code",
   "execution_count": 339,
   "metadata": {
    "collapsed": false
   },
   "outputs": [
    {
     "name": "stdout",
     "output_type": "stream",
     "text": [
      "0.106800355369 0.127439338231\n"
     ]
    }
   ],
   "source": [
    "mu = np.mean(df[['logReturn']].values)*252\n",
    "sigma = np.sqrt(np.var(df[['logReturn']].values)*252)\n",
    "print(mu,sigma)"
   ]
  },
  {
   "cell_type": "markdown",
   "metadata": {},
   "source": [
    "LIBOR is 1.16% and other parameters"
   ]
  },
  {
   "cell_type": "code",
   "execution_count": 560,
   "metadata": {
    "collapsed": false
   },
   "outputs": [],
   "source": [
    "r = 0.0116\n",
    "# expires at July 17\n",
    "tau = 116/252\n",
    "K = 235\n",
    "S = df['Adj_Close'].values[-1]"
   ]
  },
  {
   "cell_type": "markdown",
   "metadata": {},
   "source": [
    "* Write a Black-Scholes function"
   ]
  },
  {
   "cell_type": "code",
   "execution_count": 569,
   "metadata": {
    "collapsed": false
   },
   "outputs": [],
   "source": [
    "def BS(vec):\n",
    "    r,sigma,tau,K,S = vec\n",
    "    B = np.exp(r*tau)\n",
    "    dp = 1/(sigma*np.sqrt(tau))*np.log(S/K)+(r+(sigma**2)/2)*(np.sqrt(tau)/sigma)\n",
    "    dm = dp - sigma*np.sqrt(tau)\n",
    "    call = S*norm.cdf(dp)-(K/B)*norm.cdf(dm)\n",
    "    put = call - (S-(K/B))\n",
    "    delta = norm.cdf(dp)\n",
    "    return(call,put,delta)"
   ]
  },
  {
   "cell_type": "code",
   "execution_count": 582,
   "metadata": {
    "collapsed": false,
    "scrolled": true
   },
   "outputs": [
    {
     "data": {
      "text/html": [
       "<div>\n",
       "<table border=\"1\" class=\"dataframe\">\n",
       "  <thead>\n",
       "    <tr style=\"text-align: right;\">\n",
       "      <th></th>\n",
       "      <th>Date</th>\n",
       "      <th>Type</th>\n",
       "      <th>Strike</th>\n",
       "      <th>Bid</th>\n",
       "      <th>Ask</th>\n",
       "      <th>Mid</th>\n",
       "    </tr>\n",
       "  </thead>\n",
       "  <tbody>\n",
       "    <tr>\n",
       "      <th>0</th>\n",
       "      <td>2017-03-27</td>\n",
       "      <td>Call</td>\n",
       "      <td>232.5</td>\n",
       "      <td>1.40</td>\n",
       "      <td>1.48</td>\n",
       "      <td>1.440</td>\n",
       "    </tr>\n",
       "    <tr>\n",
       "      <th>1</th>\n",
       "      <td>2017-03-27</td>\n",
       "      <td>Call</td>\n",
       "      <td>233.0</td>\n",
       "      <td>1.08</td>\n",
       "      <td>1.11</td>\n",
       "      <td>1.095</td>\n",
       "    </tr>\n",
       "    <tr>\n",
       "      <th>2</th>\n",
       "      <td>2017-03-27</td>\n",
       "      <td>Call</td>\n",
       "      <td>233.5</td>\n",
       "      <td>0.76</td>\n",
       "      <td>0.78</td>\n",
       "      <td>0.770</td>\n",
       "    </tr>\n",
       "    <tr>\n",
       "      <th>3</th>\n",
       "      <td>2017-03-27</td>\n",
       "      <td>Put</td>\n",
       "      <td>232.5</td>\n",
       "      <td>0.31</td>\n",
       "      <td>0.32</td>\n",
       "      <td>0.315</td>\n",
       "    </tr>\n",
       "    <tr>\n",
       "      <th>4</th>\n",
       "      <td>2017-03-27</td>\n",
       "      <td>Put</td>\n",
       "      <td>233.0</td>\n",
       "      <td>0.44</td>\n",
       "      <td>0.45</td>\n",
       "      <td>0.445</td>\n",
       "    </tr>\n",
       "    <tr>\n",
       "      <th>5</th>\n",
       "      <td>2017-03-27</td>\n",
       "      <td>Put</td>\n",
       "      <td>233.5</td>\n",
       "      <td>0.62</td>\n",
       "      <td>0.64</td>\n",
       "      <td>0.630</td>\n",
       "    </tr>\n",
       "  </tbody>\n",
       "</table>\n",
       "</div>"
      ],
      "text/plain": [
       "         Date  Type  Strike   Bid   Ask    Mid\n",
       "0  2017-03-27  Call   232.5  1.40  1.48  1.440\n",
       "1  2017-03-27  Call   233.0  1.08  1.11  1.095\n",
       "2  2017-03-27  Call   233.5  0.76  0.78  0.770\n",
       "3  2017-03-27   Put   232.5  0.31  0.32  0.315\n",
       "4  2017-03-27   Put   233.0  0.44  0.45  0.445\n",
       "5  2017-03-27   Put   233.5  0.62  0.64  0.630"
      ]
     },
     "execution_count": 582,
     "metadata": {},
     "output_type": "execute_result"
    }
   ],
   "source": [
    "options = [{\"Type\":\"Call\",\n",
    "          \"Strike\":232.5,\n",
    "          \"Bid\":1.40,\n",
    "          \"Ask\":1.48},\n",
    "         {\"Type\":\"Call\",\n",
    "          \"Strike\":233,\n",
    "          \"Bid\":1.08,\n",
    "          \"Ask\":1.11},\n",
    "         {\"Type\":\"Call\",\n",
    "          \"Strike\":233.5,\n",
    "          \"Bid\":0.76,\n",
    "          \"Ask\":0.78},\n",
    "          {\"Type\":\"Put\",\n",
    "          \"Strike\":232.5,\n",
    "          \"Bid\":0.31,\n",
    "          \"Ask\":0.32},\n",
    "         {\"Type\":\"Put\",\n",
    "          \"Strike\":233,\n",
    "          \"Bid\":0.44,\n",
    "          \"Ask\":0.45},\n",
    "         {\"Type\":\"Put\",\n",
    "          \"Strike\":233.5,\n",
    "          \"Bid\":0.62,\n",
    "          \"Ask\":0.64}]\n",
    "options_df = pd.DataFrame(options)\n",
    "options_df['Date']  = '2017-03-27'\n",
    "options_df = options_df[['Date','Type','Strike','Bid','Ask']]\n",
    "options_df['Mid'] = (options_df['Bid']+options_df['Ask'])/2\n",
    "options_df"
   ]
  },
  {
   "cell_type": "code",
   "execution_count": 563,
   "metadata": {
    "collapsed": true
   },
   "outputs": [],
   "source": [
    "#r,sigma,tau,K,S = vec"
   ]
  },
  {
   "cell_type": "code",
   "execution_count": 570,
   "metadata": {
    "collapsed": false
   },
   "outputs": [
    {
     "name": "stdout",
     "output_type": "stream",
     "text": [
      "7.99407218052 8.12259601331 0.514705965864\n"
     ]
    }
   ],
   "source": [
    "call,put,delta = BS([r,sigma,tau,K,S])\n",
    "\n",
    "print(call,put,delta)"
   ]
  },
  {
   "cell_type": "markdown",
   "metadata": {},
   "source": [
    "## 2. Implied Vol and Vol Smile"
   ]
  },
  {
   "cell_type": "markdown",
   "metadata": {},
   "source": [
    "Here we solve for the implied vol numerically, formally solving this:"
   ]
  },
  {
   "cell_type": "markdown",
   "metadata": {},
   "source": [
    "$$ min_\\sigma ||BS(\\sigma)-Call^{*}||{_2^2}$$"
   ]
  },
  {
   "cell_type": "markdown",
   "metadata": {},
   "source": [
    "Where $Call^*$ is the vector of actual call prices."
   ]
  },
  {
   "cell_type": "markdown",
   "metadata": {},
   "source": [
    "* Write a line-search function to find Implied Vol Numerically so that we can call it to get the vol smile later"
   ]
  },
  {
   "cell_type": "code",
   "execution_count": 571,
   "metadata": {
    "collapsed": false
   },
   "outputs": [],
   "source": [
    "def IV(vec):\n",
    "    r,tau,K,S,call = vec\n",
    "    error = []\n",
    "    sigmaList = (pd.Series(range(0,4000))+1)/2000 #search from 0 to 2.0\n",
    "    for sigma in sigmaList:\n",
    "        error.append((BS([r,sigma,tau,K,S])[0]-call)**2)\n",
    "    loc = np.argmin(error)\n",
    "    return(sigmaList[loc])"
   ]
  },
  {
   "cell_type": "code",
   "execution_count": 581,
   "metadata": {
    "collapsed": false
   },
   "outputs": [
    {
     "data": {
      "text/plain": [
       "8.7999999999999989"
      ]
     },
     "execution_count": 581,
     "metadata": {},
     "output_type": "execute_result"
    }
   ],
   "source": [
    "IV([r,tau,K,S,5.5])*100"
   ]
  },
  {
   "cell_type": "markdown",
   "metadata": {},
   "source": [
    "This result is __not close__ to the one provided by Optionshouse.com (12.74%) or fintools.com (10.94%)"
   ]
  },
  {
   "cell_type": "markdown",
   "metadata": {},
   "source": [
    "Now we loop through an options chain to get vol smile:"
   ]
  },
  {
   "cell_type": "code",
   "execution_count": 573,
   "metadata": {
    "collapsed": false
   },
   "outputs": [],
   "source": [
    "strikeList = pd.Series(range(210,260,5)).tolist()\n",
    "callList = [25.48,20.94,16.58,12.47,8.74,5.50,2.97,1.32,0.50,0.185]\n",
    "\n",
    "n = len(callList)"
   ]
  },
  {
   "cell_type": "code",
   "execution_count": 574,
   "metadata": {
    "collapsed": false,
    "scrolled": true
   },
   "outputs": [],
   "source": [
    "volList = list(map(lambda ind: IV([r,tau,strikeList[ind],S,callList[ind]]), list(range(n))))"
   ]
  },
  {
   "cell_type": "code",
   "execution_count": 580,
   "metadata": {
    "collapsed": false
   },
   "outputs": [
    {
     "data": {
      "text/plain": [
       "<matplotlib.text.Text at 0x7fb12b313898>"
      ]
     },
     "execution_count": 580,
     "metadata": {},
     "output_type": "execute_result"
    },
    {
     "data": {
      "image/png": "[encoded data removed]",
      "text/plain": [
       "<matplotlib.figure.Figure at 0x7fb12b352198>"
      ]
     },
     "metadata": {},
     "output_type": "display_data"
    }
   ],
   "source": [
    "plt.plot(strikeList,volList)\n",
    "plt.savefig('SPY_vol_smile_03-27.png')\n",
    "plt.title(\"Vol Smile\")"
   ]
  }
 ],
 "metadata": {
  "anaconda-cloud": {},
  "kernelspec": {
   "display_name": "Python [conda root]",
   "language": "python",
   "name": "conda-root-py"
  },
  "language_info": {
   "codemirror_mode": {
    "name": "ipython",
    "version": 3
   },
   "file_extension": ".py",
   "mimetype": "text/x-python",
   "name": "python",
   "nbconvert_exporter": "python",
   "pygments_lexer": "ipython3",
   "version": "3.5.2"
  }
 },
 "nbformat": 4,
 "nbformat_minor": 1
}
