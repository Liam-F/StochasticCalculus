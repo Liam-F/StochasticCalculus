{
 "cells": [
  {
   "cell_type": "markdown",
   "metadata": {},
   "source": [
    "# Estimating parameters for multiple stocks"
   ]
  },
  {
   "cell_type": "markdown",
   "metadata": {},
   "source": [
    "## 1. Consider $n$ stocks with models:"
   ]
  },
  {
   "cell_type": "markdown",
   "metadata": {},
   "source": [
    "$$ S_t^{(k)} = S_0^{(k)} \\cdot exp(\\mu^{(k)} t + \\sigma^{(k)} B_t^{(k)}) $$"
   ]
  },
  {
   "cell_type": "markdown",
   "metadata": {},
   "source": [
    "__Assuming $cov(B_{t}^i,B_{s}^j) = min\\{t,s\\} \\cdot \\rho_{i,j}$ __\n",
    "\n",
    "__And: __\n",
    "$$\\sigma_k B_t^{(k)} = \\sum_{i}^{k} \\sigma_{k,i} W_t^{(i)}$$\n",
    "$$\\sigma^2_k = \\sum_{j}^{min\\{k,j\\}} \\sigma^2_{k,j}$$\n",
    "\n",
    "__Or in matrix form: __\n",
    "$$\\begin{bmatrix}\n",
    "\\sigma_1 B^{(1)}\\\\\n",
    "\\sigma_2 B^{(2)}\\\\\n",
    "\\sigma_3 B^{(3)}\\\\\n",
    "...\\\\\n",
    "\\sigma_n B^{(n)}\n",
    "\\end{bmatrix}\n",
    "{=}\n",
    "\\begin{bmatrix}\n",
    "\\sigma_{11}  & 0 & 0 &...&0\\\\\n",
    "\\sigma_{21}  & \\sigma_{22} & 0 &...&0\\\\\n",
    "\\sigma_{31} & \\sigma_{32 }&\\sigma_{33} &... &0\\\\\n",
    "...&...&...&...&...\\\\\n",
    "\\sigma_{n1} &\\sigma_{n2} &\\sigma_{n3} &...&\\sigma_{nn}\n",
    "\\end{bmatrix}\n",
    "\\begin{bmatrix}\n",
    "W^{(1)}\\\\\n",
    "W^{(2)}\\\\\n",
    "W^{(3)}\\\\\n",
    "...\\\\\n",
    "W^{(n)}\n",
    "\\end{bmatrix}\n",
    "$$"
   ]
  },
  {
   "cell_type": "markdown",
   "metadata": {},
   "source": [
    "Denote $\\{\\sigma_{i,j}\\}$ as matrix $\\Sigma$, $\\{\\sigma_{i}\\}$ as the vector $\\sigma$. The last equation can be written as:\n",
    "$$diag[\\sigma] B_t = \\Sigma W_t$$\n",
    "\n",
    "For simplicity, subscript t is ommited in this homework.\n",
    "\n",
    "Since cov(W) is just $ t I$:\n",
    "$$ cov(\\Sigma W) = \\Sigma ( tI) \\Sigma^T = t \\cdot \\Sigma \\Sigma^T $$\n",
    "\n",
    "From historical data, $cov(diag[\\sigma] B)$ is directly observable, a.k.a the covariance matrix of stocks log returns.\n",
    "Scale the covariance matrix by $t$, and decompose it into two matrix: $\\Sigma, \\Sigma^T$.\n",
    "Cholesky decomposition is unique, so: \n",
    "\n",
    "\\begin{eqnarray}\n",
    "\\Sigma &=& CholeskyDecompose(cov(diag[\\sigma] B) / t)\n",
    "\\end{eqnarray}"
   ]
  },
  {
   "cell_type": "markdown",
   "metadata": {},
   "source": [
    "\\begin{eqnarray}\n",
    "a\\\\\n",
    "\\end{eqnarray}"
   ]
  },
  {
   "cell_type": "code",
   "execution_count": 18,
   "metadata": {
    "collapsed": true
   },
   "outputs": [],
   "source": [
    "import numpy as np #Handle math objects like vectors and matrixs\n",
    "import scipy as sp\n",
    "from scipy.stats import norm # Normal cdf is used\n",
    "import pandas as pd #Contains data from yahoo\n",
    "import matplotlib.pyplot as plt # Seeing is believing! --Thrall\n",
    "from datetime import datetime # Very usefull when you need to operate on date\n",
    "from datetime import timedelta # Very usefull when you need to operate on date\n",
    "from yahoo_finance import Share # API from Yahoo to fetch data\n",
    "%matplotlib inline\n",
    "float_formatter = lambda x: \"%.3f\" % x if x >=0 else \"%.2f\" % x\n",
    "np.set_printoptions(formatter={'float_kind':float_formatter})\n",
    "pd.options.display.float_format = '{:20,.3f}'.format"
   ]
  },
  {
   "cell_type": "markdown",
   "metadata": {},
   "source": [
    "* Choose the stocks"
   ]
  },
  {
   "cell_type": "code",
   "execution_count": 2,
   "metadata": {
    "collapsed": true
   },
   "outputs": [],
   "source": [
    "universe = ['SPY','GOOG','AAPL','AMZN','MSFT','IBM','M','MNST','PNC','ROST','COO']"
   ]
  },
  {
   "cell_type": "code",
   "execution_count": 3,
   "metadata": {
    "collapsed": false
   },
   "outputs": [],
   "source": [
    "n = len(universe)"
   ]
  },
  {
   "cell_type": "code",
   "execution_count": 4,
   "metadata": {
    "collapsed": true
   },
   "outputs": [],
   "source": [
    "i = datetime.now()\n",
    "j = i - timedelta(days=252*2)\n",
    "currentDate = \"%s-%s-%s\"%(i.year,i.month,i.day)\n",
    "startDate = \"%s-%s-%s\"%(j.year,j.month,j.day)"
   ]
  },
  {
   "cell_type": "markdown",
   "metadata": {},
   "source": [
    "* M is the dataframe that stores log returns of all the stocks."
   ]
  },
  {
   "cell_type": "code",
   "execution_count": 5,
   "metadata": {
    "collapsed": false
   },
   "outputs": [],
   "source": [
    "count = 0\n",
    "for symbol in universe:\n",
    "    equity = Share(symbol)\n",
    "    df = pd.DataFrame(equity.get_historical(startDate,currentDate))\n",
    "    df.index = df.Date\n",
    "    df.drop('Date',1,inplace = True)\n",
    "    df.sort_index(inplace = True) # ,ascending = False\n",
    "    df['Adj_Close'] = pd.to_numeric(df['Adj_Close'])\n",
    "    label = symbol#+'_logReturn'\n",
    "    df[label] = np.log(1+df.Adj_Close.diff(1)/df.Adj_Close)\n",
    "#     df.fillna(0,inplace = True)\n",
    "    df.dropna(inplace = True)\n",
    "    \n",
    "    if count==0:\n",
    "        M = df[[label]].copy()\n",
    "    else:\n",
    "        M = M.join(df[[label]])\n",
    "    \n",
    "    count += 1\n"
   ]
  },
  {
   "cell_type": "markdown",
   "metadata": {},
   "source": [
    "* Solve the covariance matrix of the stocks ($C=cov(diag[\\sigma] B)/t$)"
   ]
  },
  {
   "cell_type": "code",
   "execution_count": 21,
   "metadata": {
    "collapsed": false
   },
   "outputs": [
    {
     "name": "stdout",
     "output_type": "stream",
     "text": [
      "[[0.016 0.015 0.016 0.017 0.018 0.015 0.014 0.012 0.020 0.012 0.011]\n",
      " [0.015 0.036 0.019 0.031 0.027 0.013 0.008 0.018 0.014 0.013 0.013]\n",
      " [0.016 0.019 0.049 0.022 0.022 0.013 0.007 0.012 0.017 0.012 0.015]\n",
      " [0.017 0.031 0.022 0.073 0.028 0.013 -0.00 0.030 0.015 0.009 0.014]\n",
      " [0.018 0.027 0.022 0.028 0.044 0.017 0.011 0.019 0.019 0.014 0.014]\n",
      " [0.015 0.013 0.013 0.013 0.017 0.034 0.015 0.008 0.019 0.008 0.006]\n",
      " [0.014 0.008 0.007 -0.00 0.011 0.015 0.151 0.009 0.023 0.030 0.012]\n",
      " [0.012 0.018 0.012 0.030 0.019 0.008 0.009 0.071 0.006 0.015 0.010]\n",
      " [0.020 0.014 0.017 0.015 0.019 0.019 0.023 0.006 0.049 0.013 0.008]\n",
      " [0.012 0.013 0.012 0.009 0.014 0.008 0.030 0.015 0.013 0.041 0.010]\n",
      " [0.011 0.013 0.015 0.014 0.014 0.006 0.012 0.010 0.008 0.010 0.047]]\n"
     ]
    }
   ],
   "source": [
    "dt = 1/252\n",
    "covMat = np.cov(M.values.T)\n",
    "C = covMat/dt\n",
    "print(C)"
   ]
  },
  {
   "cell_type": "code",
   "execution_count": 9,
   "metadata": {
    "collapsed": false
   },
   "outputs": [
    {
     "data": {
      "text/plain": [
       "<matplotlib.colorbar.Colorbar at 0x7efe3abca898>"
      ]
     },
     "execution_count": 9,
     "metadata": {},
     "output_type": "execute_result"
    },
    {
     "data": {
      "image/png": "[encoded data removed]",
      "text/plain": [
       "<matplotlib.figure.Figure at 0x7efe3dad1c18>"
      ]
     },
     "metadata": {},
     "output_type": "display_data"
    }
   ],
   "source": [
    "plt.imshow(C)\n",
    "plt.colorbar() "
   ]
  },
  {
   "cell_type": "code",
   "execution_count": 20,
   "metadata": {
    "collapsed": false
   },
   "outputs": [
    {
     "name": "stdout",
     "output_type": "stream",
     "text": [
      "[[1.000 0.624 0.572 0.491 0.706 0.630 0.295 0.367 0.737 0.478 0.393]\n",
      " [0.624 1.000 0.460 0.605 0.696 0.373 0.106 0.363 0.340 0.339 0.324]\n",
      " [0.572 0.460 1.000 0.371 0.481 0.323 0.080 0.203 0.347 0.266 0.305]\n",
      " [0.491 0.605 0.371 1.000 0.496 0.255 -0.03 0.418 0.251 0.172 0.232]\n",
      " [0.706 0.696 0.481 0.496 1.000 0.448 0.134 0.335 0.420 0.334 0.315]\n",
      " [0.630 0.373 0.323 0.255 0.448 1.000 0.213 0.165 0.459 0.219 0.143]\n",
      " [0.295 0.106 0.080 -0.03 0.134 0.213 1.000 0.090 0.273 0.378 0.138]\n",
      " [0.367 0.363 0.203 0.418 0.335 0.165 0.090 1.000 0.104 0.276 0.176]\n",
      " [0.737 0.340 0.347 0.251 0.420 0.459 0.273 0.104 1.000 0.290 0.162]\n",
      " [0.478 0.339 0.266 0.172 0.334 0.219 0.378 0.276 0.290 1.000 0.231]\n",
      " [0.393 0.324 0.305 0.232 0.315 0.143 0.138 0.176 0.162 0.231 1.000]]\n"
     ]
    }
   ],
   "source": [
    "dt = 1/252\n",
    "corrMat = np.corrcoef(M.values.T)\n",
    "print(corrMat)"
   ]
  },
  {
   "cell_type": "code",
   "execution_count": 12,
   "metadata": {
    "collapsed": false,
    "scrolled": true
   },
   "outputs": [
    {
     "data": {
      "text/plain": [
       "<matplotlib.colorbar.Colorbar at 0x7efe3a9ca7f0>"
      ]
     },
     "execution_count": 12,
     "metadata": {},
     "output_type": "execute_result"
    },
    {
     "data": {
      "image/png": "[encoded data removed]",
      "text/plain": [
       "<matplotlib.figure.Figure at 0x7efe3aa359e8>"
      ]
     },
     "metadata": {},
     "output_type": "display_data"
    }
   ],
   "source": [
    "plt.imshow(corrMat)\n",
    "plt.colorbar()"
   ]
  },
  {
   "cell_type": "markdown",
   "metadata": {},
   "source": [
    "* Perform Cholesky on C to get $\\Sigma$\n",
    "\n",
    "__$\\Sigma = CholeskyDecompose(cov(diag[\\sigma] B) / t)$__"
   ]
  },
  {
   "cell_type": "code",
   "execution_count": 19,
   "metadata": {
    "collapsed": false,
    "scrolled": true
   },
   "outputs": [
    {
     "name": "stdout",
     "output_type": "stream",
     "text": [
      "[[0.125 0.000 0.000 0.000 0.000 0.000 0.000 0.000 0.000 0.000 0.000]\n",
      " [0.118 0.148 0.000 0.000 0.000 0.000 0.000 0.000 0.000 0.000 0.000]\n",
      " [0.126 0.029 0.179 0.000 0.000 0.000 0.000 0.000 0.000 0.000 0.000]\n",
      " [0.133 0.103 0.013 0.212 0.000 0.000 0.000 0.000 0.000 0.000 0.000]\n",
      " [0.147 0.068 0.009 0.006 0.131 0.000 0.000 0.000 0.000 0.000 0.000]\n",
      " [0.117 -0.00 -0.01 -0.01 0.004 0.143 0.000 0.000 0.000 0.000 0.000]\n",
      " [0.115 -0.04 -0.04 -0.07 -0.02 0.006 0.361 0.000 0.000 0.000 0.000]\n",
      " [0.098 0.046 -0.01 0.059 0.007 -0.02 0.010 0.235 0.000 0.000 0.000]\n",
      " [0.163 -0.03 -0.02 -0.01 -0.02 -0.00 0.005 -0.03 0.140 0.000 0.000]\n",
      " [0.097 0.010 -0.00 -0.02 -0.01 -0.02 0.049 0.023 -0.02 0.165 0.000]\n",
      " [0.086 0.022 0.018 -0.00 0.000 -0.03 0.010 0.002 -0.04 -0.00 0.192]]\n"
     ]
    }
   ],
   "source": [
    "Sigma = np.linalg.cholesky(C)\n",
    "print(Sigma)"
   ]
  },
  {
   "cell_type": "markdown",
   "metadata": {},
   "source": [
    "* Recover standard deviation of log returns of stocks $\\sigma_k$ from formula:"
   ]
  },
  {
   "cell_type": "markdown",
   "metadata": {},
   "source": [
    "$$\\sigma^2_k = \\sum_{j}^{min\\{k,j\\}} \\sigma^2_{k,j}$$"
   ]
  },
  {
   "cell_type": "code",
   "execution_count": 68,
   "metadata": {
    "collapsed": false,
    "scrolled": true
   },
   "outputs": [
    {
     "name": "stdout",
     "output_type": "stream",
     "text": [
      "[[64.401 0.000 0.000 0.000 0.000 0.000 0.000 0.000 0.000 0.000 0.000]\n",
      " [0.000 28.032 0.000 0.000 0.000 0.000 0.000 0.000 0.000 0.000 0.000]\n",
      " [0.000 0.000 20.480 0.000 0.000 0.000 0.000 0.000 0.000 0.000 0.000]\n",
      " [0.000 0.000 0.000 13.631 0.000 0.000 0.000 0.000 0.000 0.000 0.000]\n",
      " [0.000 0.000 0.000 0.000 22.962 0.000 0.000 0.000 0.000 0.000 0.000]\n",
      " [0.000 0.000 0.000 0.000 0.000 29.199 0.000 0.000 0.000 0.000 0.000]\n",
      " [0.000 0.000 0.000 0.000 0.000 0.000 6.612 0.000 0.000 0.000 0.000]\n",
      " [0.000 0.000 0.000 0.000 0.000 0.000 0.000 14.079 0.000 0.000 0.000]\n",
      " [0.000 0.000 0.000 0.000 0.000 0.000 0.000 0.000 20.415 0.000 0.000]\n",
      " [0.000 0.000 0.000 0.000 0.000 0.000 0.000 0.000 0.000 24.364 0.000]\n",
      " [0.000 0.000 0.000 0.000 0.000 0.000 0.000 0.000 0.000 0.000 21.076]]\n"
     ]
    }
   ],
   "source": [
    "sigma = np.sum(Sigma**2,axis = 1)**(0.5)\n",
    "print(np.linalg.inv(np.diag(sigma**2)))"
   ]
  },
  {
   "cell_type": "markdown",
   "metadata": {},
   "source": [
    "$$ R = \\Sigma diag[\\sigma]^{-1}$$\n",
    "$$ d = det(R)^{1/n}$$"
   ]
  },
  {
   "cell_type": "code",
   "execution_count": 69,
   "metadata": {
    "collapsed": false
   },
   "outputs": [
    {
     "name": "stdout",
     "output_type": "stream",
     "text": [
      "The diversity is  0.80259712699\n"
     ]
    }
   ],
   "source": [
    "R = np.dot(Sigma,np.linalg.inv(np.diag(sigma)))\n",
    "d = np.linalg.det(R)**(1/n)\n",
    "print('The diversity is ', d)"
   ]
  },
  {
   "cell_type": "markdown",
   "metadata": {},
   "source": [
    "Another way to decompose the covariance matrix is PCA(SVD)\n",
    "\n",
    "$$C = U \\Lambda U^T$$\n",
    "\n",
    "We will now show that even though $U \\Lambda U^T =  \\Sigma \\Sigma^T$, $U \\Lambda^{\\frac{1}{2}} \\neq \\Sigma$"
   ]
  },
  {
   "cell_type": "code",
   "execution_count": 22,
   "metadata": {
    "collapsed": true
   },
   "outputs": [],
   "source": [
    "u,s,v = np.linalg.svd(C)"
   ]
  },
  {
   "cell_type": "code",
   "execution_count": 73,
   "metadata": {
    "collapsed": false
   },
   "outputs": [
    {
     "name": "stdout",
     "output_type": "stream",
     "text": [
      "[0.214 0.142 0.062 0.043 0.038 0.029 0.027 0.024 0.019 0.011 0.002]\n"
     ]
    }
   ],
   "source": [
    "print(s)"
   ]
  },
  {
   "cell_type": "code",
   "execution_count": 42,
   "metadata": {
    "collapsed": false
   },
   "outputs": [
    {
     "name": "stdout",
     "output_type": "stream",
     "text": [
      "[[0.016 0.015 0.016 0.017 0.018 0.015 0.014 0.012 0.020 0.012 0.011]\n",
      " [0.015 0.036 0.019 0.031 0.027 0.013 0.008 0.018 0.014 0.013 0.013]\n",
      " [0.016 0.019 0.049 0.022 0.022 0.013 0.007 0.012 0.017 0.012 0.015]\n",
      " [0.017 0.031 0.022 0.073 0.028 0.013 -0.00 0.030 0.015 0.009 0.014]\n",
      " [0.018 0.027 0.022 0.028 0.044 0.017 0.011 0.019 0.019 0.014 0.014]\n",
      " [0.015 0.013 0.013 0.013 0.017 0.034 0.015 0.008 0.019 0.008 0.006]\n",
      " [0.014 0.008 0.007 -0.00 0.011 0.015 0.151 0.009 0.023 0.030 0.012]\n",
      " [0.012 0.018 0.012 0.030 0.019 0.008 0.009 0.071 0.006 0.015 0.010]\n",
      " [0.020 0.014 0.017 0.015 0.019 0.019 0.023 0.006 0.049 0.013 0.008]\n",
      " [0.012 0.013 0.012 0.009 0.014 0.008 0.030 0.015 0.013 0.041 0.010]\n",
      " [0.011 0.013 0.015 0.014 0.014 0.006 0.012 0.010 0.008 0.010 0.047]]\n"
     ]
    }
   ],
   "source": [
    "ul = np.dot(u,np.diag(s**0.5))\n",
    "print(np.dot(ul,ul.T))"
   ]
  },
  {
   "cell_type": "markdown",
   "metadata": {},
   "source": [
    "In the cell above we can see $U \\Lambda^{\\frac{1}{2}} = C$.\n",
    "\n",
    "Next we compare $U \\Lambda^{\\frac{1}{2}}$ and $\\Sigma$ :"
   ]
  },
  {
   "cell_type": "code",
   "execution_count": 71,
   "metadata": {
    "collapsed": false
   },
   "outputs": [
    {
     "name": "stdout",
     "output_type": "stream",
     "text": [
      "[[-0.10 0.028 0.034 0.010 0.023 0.014 0.002 -0.00 -0.00 0.003 0.042]\n",
      " [-0.13 0.079 0.012 -0.00 -0.03 -0.01 0.028 0.051 0.034 -0.08 -0.00]\n",
      " [-0.12 0.071 0.071 -0.04 0.020 -0.11 -0.09 -0.04 -0.01 -0.00 -0.00]\n",
      " [-0.15 0.158 -0.04 0.039 -0.14 0.008 0.019 -0.04 -0.03 0.017 -0.00]\n",
      " [-0.15 0.077 0.037 0.004 0.006 -0.01 0.017 0.085 0.061 0.058 -0.01]\n",
      " [-0.10 0.018 0.060 0.050 0.035 0.036 -0.02 0.066 -0.10 -0.00 -0.01]\n",
      " [-0.24 -0.30 -0.03 0.005 -0.05 -0.01 -0.02 0.005 0.006 0.001 -0.00]\n",
      " [-0.13 0.087 -0.19 0.017 0.086 0.019 -0.04 -0.01 0.008 -0.00 -0.00]\n",
      " [-0.13 0.006 0.106 0.071 0.054 0.069 0.003 -0.08 0.039 -0.01 -0.01]\n",
      " [-0.12 -0.02 -0.01 -0.03 0.065 -0.06 0.124 -0.03 -0.03 0.007 -0.00]\n",
      " [-0.10 0.031 0.018 -0.17 -0.00 0.079 -0.00 -0.01 -0.01 0.001 -0.00]]\n"
     ]
    }
   ],
   "source": [
    "print(ul)"
   ]
  },
  {
   "cell_type": "code",
   "execution_count": 44,
   "metadata": {
    "collapsed": false
   },
   "outputs": [
    {
     "name": "stdout",
     "output_type": "stream",
     "text": [
      "[[0.125 0.000 0.000 0.000 0.000 0.000 0.000 0.000 0.000 0.000 0.000]\n",
      " [0.118 0.148 0.000 0.000 0.000 0.000 0.000 0.000 0.000 0.000 0.000]\n",
      " [0.126 0.029 0.179 0.000 0.000 0.000 0.000 0.000 0.000 0.000 0.000]\n",
      " [0.133 0.103 0.013 0.212 0.000 0.000 0.000 0.000 0.000 0.000 0.000]\n",
      " [0.147 0.068 0.009 0.006 0.131 0.000 0.000 0.000 0.000 0.000 0.000]\n",
      " [0.117 -0.00 -0.01 -0.01 0.004 0.143 0.000 0.000 0.000 0.000 0.000]\n",
      " [0.115 -0.04 -0.04 -0.07 -0.02 0.006 0.361 0.000 0.000 0.000 0.000]\n",
      " [0.098 0.046 -0.01 0.059 0.007 -0.02 0.010 0.235 0.000 0.000 0.000]\n",
      " [0.163 -0.03 -0.02 -0.01 -0.02 -0.00 0.005 -0.03 0.140 0.000 0.000]\n",
      " [0.097 0.010 -0.00 -0.02 -0.01 -0.02 0.049 0.023 -0.02 0.165 0.000]\n",
      " [0.086 0.022 0.018 -0.00 0.000 -0.03 0.010 0.002 -0.04 -0.00 0.192]]\n"
     ]
    }
   ],
   "source": [
    "print(Sigma)"
   ]
  }
 ],
 "metadata": {
  "anaconda-cloud": {},
  "kernelspec": {
   "display_name": "Python [conda root]",
   "language": "python",
   "name": "conda-root-py"
  },
  "language_info": {
   "codemirror_mode": {
    "name": "ipython",
    "version": 3
   },
   "file_extension": ".py",
   "mimetype": "text/x-python",
   "name": "python",
   "nbconvert_exporter": "python",
   "pygments_lexer": "ipython3",
   "version": "3.5.2"
  }
 },
 "nbformat": 4,
 "nbformat_minor": 1
}
