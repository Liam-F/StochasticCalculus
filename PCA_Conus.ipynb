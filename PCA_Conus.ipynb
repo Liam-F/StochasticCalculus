{
 "cells": [
  {
   "cell_type": "code",
   "execution_count": 3,
   "metadata": {
    "collapsed": true
   },
   "outputs": [],
   "source": [
    "from scipy import ndimage\n",
    "from scipy import misc\n",
    "import matplotlib.pyplot as plt\n",
    "import numpy as np\n",
    "import sklearn\n",
    "from sklearn.decomposition import PCA\n",
    "import ipywidgets as widgets"
   ]
  },
  {
   "cell_type": "code",
   "execution_count": 15,
   "metadata": {},
   "outputs": [],
   "source": [
    "# faceArray = misc.imread('face.jpg') #小栗旬\n",
    "# faceArray = misc.imread('face2.png') #桥本有菜\n",
    "faceArray = misc.imread('face3.jpg') #Conus"
   ]
  },
  {
   "cell_type": "code",
   "execution_count": 21,
   "metadata": {
    "collapsed": true
   },
   "outputs": [],
   "source": [
    "plt.imshow(faceArray)\n",
    "# plt.show()\n",
    "\n",
    "def rgb2gray(rgb):\n",
    "    return np.dot(rgb[...,:3], [0.299, 0.587, 0.114])\n",
    "\n",
    "faceArrayGray = rgb2gray(faceArray)\n",
    "\n",
    "plt.imshow(faceArrayGray,cmap = plt.get_cmap('gray'))\n",
    "# plt.show()\n",
    "\n",
    "# a = np.array([[1,2,0],[0,1,0],[0,2,1]])\n",
    "u,s,v = np.linalg.svd(faceArrayGray)\n",
    "\n",
    "def p(n):\n",
    "    plt.figure(figsize = (8,12))\n",
    "    recoverFace = np.dot(np.dot(u[:,:n],np.diag(s[:n])),v[:n,:])\n",
    "    plt.imshow(recoverFace,cmap = plt.get_cmap('gray'))\n",
    "    plt.title(str(n)+' Principal Comp')\n",
    "    plt.axis('off')\n",
    "    plt.show()"
   ]
  },
  {
   "cell_type": "code",
   "execution_count": 22,
   "metadata": {},
   "outputs": [
    {
     "data": {
      "application/vnd.jupyter.widget-view+json": {
       "model_id": "b524dd067e634e99a9410f8f2a7a72ac"
      }
     },
     "metadata": {},
     "output_type": "display_data"
    },
    {
     "data": {
      "text/plain": [
       "<function __main__.p>"
      ]
     },
     "execution_count": 22,
     "metadata": {},
     "output_type": "execute_result"
    }
   ],
   "source": [
    "interact = widgets.interact()\n",
    "interact(p,n=widgets.IntSlider(min=1,max=v.shape[0]/4,step=1,value=15,description='Number of PC'),continuous_update=False)"
   ]
  }
 ],
 "metadata": {
  "anaconda-cloud": {},
  "kernelspec": {
   "display_name": "Python [conda root]",
   "language": "python",
   "name": "conda-root-py"
  },
  "language_info": {
   "codemirror_mode": {
    "name": "ipython",
    "version": 3
   },
   "file_extension": ".py",
   "mimetype": "text/x-python",
   "name": "python",
   "nbconvert_exporter": "python",
   "pygments_lexer": "ipython3",
   "version": "3.5.3"
  },
  "widgets": {
   "application/vnd.jupyter.widget-state+json": {
    "state": {
     "007ef030c8ee427aacb5af5b1227a61e": {
      "model_module": "jupyter-js-widgets",
      "model_module_version": "~2.1.4",
      "model_name": "OutputModel",
      "state": {
       "_dom_classes": [],
       "_model_module": "jupyter-js-widgets",
       "_model_module_version": "~2.1.4",
       "_view_module": "jupyter-js-widgets",
       "_view_module_version": "~2.1.4",
       "layout": "IPY_MODEL_7024b7b0f9c54938886e1b8ead2f1646",
       "msg_throttle": 1
      }
     },
     "14e0681934ed4c4e8d472d21a1775a23": {
      "model_module": "jupyter-js-widgets",
      "model_module_version": "~2.1.4",
      "model_name": "LayoutModel",
      "state": {
       "_model_module_version": "~2.1.4",
       "_view_module_version": "~2.1.4"
      }
     },
     "259afb599dd64b5f91d785420fe64e56": {
      "model_module": "jupyter-js-widgets",
      "model_module_version": "~2.1.4",
      "model_name": "IntSliderModel",
      "state": {
       "_model_module_version": "~2.1.4",
       "_view_module_version": "~2.1.4",
       "description": "x",
       "layout": "IPY_MODEL_950769dbeff74187889cd817ed092b3f",
       "max": 30,
       "min": -10,
       "style": "IPY_MODEL_b5cc53ad4b2c435182eda2ceef7b2b8e",
       "value": 16
      }
     },
     "32ea57df71d94cde9061fabcfce5cb79": {
      "model_module": "jupyter-js-widgets",
      "model_module_version": "~2.1.4",
      "model_name": "LayoutModel",
      "state": {
       "_model_module_version": "~2.1.4",
       "_view_module_version": "~2.1.4"
      }
     },
     "3b2055d5cef74ad9870c3dbf894564eb": {
      "model_module": "jupyter-js-widgets",
      "model_module_version": "~2.1.4",
      "model_name": "LayoutModel",
      "state": {
       "_model_module_version": "~2.1.4",
       "_view_module_version": "~2.1.4"
      }
     },
     "3b35edea715e48bebfec477788c48497": {
      "model_module": "jupyter-js-widgets",
      "model_module_version": "~2.1.4",
      "model_name": "LayoutModel",
      "state": {
       "_model_module_version": "~2.1.4",
       "_view_module_version": "~2.1.4"
      }
     },
     "3c161a8306964afc890b8a31a4713154": {
      "model_module": "jupyter-js-widgets",
      "model_module_version": "~2.1.4",
      "model_name": "VBoxModel",
      "state": {
       "_dom_classes": [
        "widget-interact"
       ],
       "_model_module_version": "~2.1.4",
       "_view_module_version": "~2.1.4",
       "children": [
        "IPY_MODEL_6fec551d7f374e5190ba13bbd6be80c5",
        "IPY_MODEL_007ef030c8ee427aacb5af5b1227a61e"
       ],
       "layout": "IPY_MODEL_3b35edea715e48bebfec477788c48497"
      }
     },
     "3c951ee027a14ea8abf87c69cdd36ba4": {
      "model_module": "jupyter-js-widgets",
      "model_module_version": "~2.1.4",
      "model_name": "IntSliderModel",
      "state": {
       "_model_module_version": "~2.1.4",
       "_view_module_version": "~2.1.4",
       "description": "Number of PC",
       "layout": "IPY_MODEL_5387411401e94286869bf7bdf47ad012",
       "max": 110,
       "min": 1,
       "style": "IPY_MODEL_db62c5a3f3e640948ddacc08a7062aba",
       "value": 68
      }
     },
     "45d0097a3a7d40aea349364a124d2a63": {
      "model_module": "jupyter-js-widgets",
      "model_module_version": "~2.1.4",
      "model_name": "LayoutModel",
      "state": {
       "_model_module_version": "~2.1.4",
       "_view_module_version": "~2.1.4"
      }
     },
     "5387411401e94286869bf7bdf47ad012": {
      "model_module": "jupyter-js-widgets",
      "model_module_version": "~2.1.4",
      "model_name": "LayoutModel",
      "state": {
       "_model_module_version": "~2.1.4",
       "_view_module_version": "~2.1.4"
      }
     },
     "5e48c3b781024becb1071fef5e79a7f1": {
      "model_module": "jupyter-js-widgets",
      "model_module_version": "~2.1.4",
      "model_name": "OutputModel",
      "state": {
       "_dom_classes": [],
       "_model_module": "jupyter-js-widgets",
       "_model_module_version": "~2.1.4",
       "_view_module": "jupyter-js-widgets",
       "_view_module_version": "~2.1.4",
       "layout": "IPY_MODEL_3b2055d5cef74ad9870c3dbf894564eb",
       "msg_throttle": 1
      }
     },
     "616641a4c55c4e43a5b13a7d7da86cff": {
      "model_module": "jupyter-js-widgets",
      "model_module_version": "~2.1.4",
      "model_name": "LayoutModel",
      "state": {
       "_model_module_version": "~2.1.4",
       "_view_module_version": "~2.1.4"
      }
     },
     "6fec551d7f374e5190ba13bbd6be80c5": {
      "model_module": "jupyter-js-widgets",
      "model_module_version": "~2.1.4",
      "model_name": "IntSliderModel",
      "state": {
       "_model_module_version": "~2.1.4",
       "_view_module_version": "~2.1.4",
       "description": "Number of PC",
       "layout": "IPY_MODEL_45d0097a3a7d40aea349364a124d2a63",
       "max": 110,
       "min": 1,
       "style": "IPY_MODEL_da15aaff93c84ad99a74ae5efe5ee366",
       "value": 24
      }
     },
     "7024b7b0f9c54938886e1b8ead2f1646": {
      "model_module": "jupyter-js-widgets",
      "model_module_version": "~2.1.4",
      "model_name": "LayoutModel",
      "state": {
       "_model_module_version": "~2.1.4",
       "_view_module_version": "~2.1.4"
      }
     },
     "75227a254f034364a57cc8103de085c9": {
      "model_module": "jupyter-js-widgets",
      "model_module_version": "~2.1.4",
      "model_name": "LayoutModel",
      "state": {
       "_model_module_version": "~2.1.4",
       "_view_module_version": "~2.1.4"
      }
     },
     "7f1b403c03bb46e6b6885659b82736d3": {
      "model_module": "jupyter-js-widgets",
      "model_module_version": "~2.1.4",
      "model_name": "OutputModel",
      "state": {
       "_dom_classes": [],
       "_model_module": "jupyter-js-widgets",
       "_model_module_version": "~2.1.4",
       "_view_module": "jupyter-js-widgets",
       "_view_module_version": "~2.1.4",
       "layout": "IPY_MODEL_ec52716442804cf8940a00661764ecba",
       "msg_throttle": 1
      }
     },
     "950769dbeff74187889cd817ed092b3f": {
      "model_module": "jupyter-js-widgets",
      "model_module_version": "~2.1.4",
      "model_name": "LayoutModel",
      "state": {
       "_model_module_version": "~2.1.4",
       "_view_module_version": "~2.1.4"
      }
     },
     "9a2c0f411ab640e3bd5b6709bc1b0601": {
      "model_module": "jupyter-js-widgets",
      "model_module_version": "~2.1.4",
      "model_name": "VBoxModel",
      "state": {
       "_dom_classes": [
        "widget-interact"
       ],
       "_model_module_version": "~2.1.4",
       "_view_module_version": "~2.1.4",
       "children": [
        "IPY_MODEL_3c951ee027a14ea8abf87c69cdd36ba4",
        "IPY_MODEL_5e48c3b781024becb1071fef5e79a7f1"
       ],
       "layout": "IPY_MODEL_75227a254f034364a57cc8103de085c9"
      }
     },
     "9ff5ebddcebe4e8887d3a35e128ac1bb": {
      "model_module": "jupyter-js-widgets",
      "model_module_version": "~2.1.4",
      "model_name": "OutputModel",
      "state": {
       "_dom_classes": [],
       "_model_module": "jupyter-js-widgets",
       "_model_module_version": "~2.1.4",
       "_view_module": "jupyter-js-widgets",
       "_view_module_version": "~2.1.4",
       "layout": "IPY_MODEL_d50ec88074a04bce9779bb8269d6fc85",
       "msg_throttle": 1
      }
     },
     "b5cc53ad4b2c435182eda2ceef7b2b8e": {
      "model_module": "jupyter-js-widgets",
      "model_module_version": "~2.1.4",
      "model_name": "SliderStyleModel",
      "state": {
       "_model_module_version": "~2.1.4",
       "_view_module_version": "~2.1.4"
      }
     },
     "b8af1b12ce5e4d5386654e197b3b8756": {
      "model_module": "jupyter-js-widgets",
      "model_module_version": "~2.1.4",
      "model_name": "VBoxModel",
      "state": {
       "_dom_classes": [
        "widget-interact"
       ],
       "_model_module_version": "~2.1.4",
       "_view_module_version": "~2.1.4",
       "children": [
        "IPY_MODEL_259afb599dd64b5f91d785420fe64e56",
        "IPY_MODEL_7f1b403c03bb46e6b6885659b82736d3"
       ],
       "layout": "IPY_MODEL_616641a4c55c4e43a5b13a7d7da86cff"
      }
     },
     "bcf11408bc8746aea86076beb5f08115": {
      "model_module": "jupyter-js-widgets",
      "model_module_version": "~2.1.4",
      "model_name": "VBoxModel",
      "state": {
       "_dom_classes": [
        "widget-interact"
       ],
       "_model_module_version": "~2.1.4",
       "_view_module_version": "~2.1.4",
       "children": [
        "IPY_MODEL_cc86996d6fda4eadb771a1efe6614ac4",
        "IPY_MODEL_9ff5ebddcebe4e8887d3a35e128ac1bb"
       ],
       "layout": "IPY_MODEL_14e0681934ed4c4e8d472d21a1775a23"
      }
     },
     "cc86996d6fda4eadb771a1efe6614ac4": {
      "model_module": "jupyter-js-widgets",
      "model_module_version": "~2.1.4",
      "model_name": "IntSliderModel",
      "state": {
       "_model_module_version": "~2.1.4",
       "_view_module_version": "~2.1.4",
       "description": "Number of PC",
       "layout": "IPY_MODEL_32ea57df71d94cde9061fabcfce5cb79",
       "max": 110,
       "min": 1,
       "style": "IPY_MODEL_e6440f1898c843a1a6023deb91c78c42",
       "value": 40
      }
     },
     "d50ec88074a04bce9779bb8269d6fc85": {
      "model_module": "jupyter-js-widgets",
      "model_module_version": "~2.1.4",
      "model_name": "LayoutModel",
      "state": {
       "_model_module_version": "~2.1.4",
       "_view_module_version": "~2.1.4"
      }
     },
     "da15aaff93c84ad99a74ae5efe5ee366": {
      "model_module": "jupyter-js-widgets",
      "model_module_version": "~2.1.4",
      "model_name": "SliderStyleModel",
      "state": {
       "_model_module_version": "~2.1.4",
       "_view_module_version": "~2.1.4"
      }
     },
     "db62c5a3f3e640948ddacc08a7062aba": {
      "model_module": "jupyter-js-widgets",
      "model_module_version": "~2.1.4",
      "model_name": "SliderStyleModel",
      "state": {
       "_model_module_version": "~2.1.4",
       "_view_module_version": "~2.1.4"
      }
     },
     "e6440f1898c843a1a6023deb91c78c42": {
      "model_module": "jupyter-js-widgets",
      "model_module_version": "~2.1.4",
      "model_name": "SliderStyleModel",
      "state": {
       "_model_module_version": "~2.1.4",
       "_view_module_version": "~2.1.4"
      }
     },
     "ec52716442804cf8940a00661764ecba": {
      "model_module": "jupyter-js-widgets",
      "model_module_version": "~2.1.4",
      "model_name": "LayoutModel",
      "state": {
       "_model_module_version": "~2.1.4",
       "_view_module_version": "~2.1.4"
      }
     }
    },
    "version_major": 1,
    "version_minor": 0
   }
  }
 },
 "nbformat": 4,
 "nbformat_minor": 1
}
