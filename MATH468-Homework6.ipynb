{
 "cells": [
  {
   "cell_type": "markdown",
   "metadata": {},
   "source": [
    "# Problem 1 Gram-Schmidt"
   ]
  },
  {
   "cell_type": "markdown",
   "metadata": {},
   "source": [
    "To prove the existence of a solution, one only needs to validate one.\n",
    "\n",
    "Consider:\n",
    "\n",
    "$$\\alpha = x \\cdot y$$\n",
    "$$\\zeta =  y - \\alpha x$$\n",
    "$$\\beta =  |\\zeta|_{2}$$\n",
    "$$ z = \\beta^{-1} \\zeta$$\n",
    "\n",
    "One can easily prove that:\n",
    "\\begin{eqnarray}\n",
    " |z| &=& |\\beta^{-1} \\zeta|\\\\\n",
    " &=&1\n",
    "\\end{eqnarray}\n",
    "\n",
    "And:\n",
    "\\begin{eqnarray}\n",
    " \\alpha x+ \\beta z &=& \\alpha x + (y-\\alpha x)\\\\\n",
    " &=& y\n",
    "\\end{eqnarray}\n",
    "\n",
    "And:\n",
    "\\begin{eqnarray}\n",
    " x \\cdot z &=& x \\cdot \\beta^{-1} \\zeta\\\\\n",
    " &=& \\beta^{-1} x \\cdot (y-(x\\cdot y) x)\\\\\n",
    " &=& \\beta^{-1} [x \\cdot y-(x\\cdot y)] \\\\\n",
    " &=& 0\n",
    "\\end{eqnarray}\n",
    "\n",
    "So $x \\bot z$ .\n",
    "\n",
    "Notice that solution exists only when $\\beta \\neq 0$\n",
    "\n",
    "Equivalently,\n",
    "\n",
    "$$|y-(x \\cdot y) x| \\neq 0$$\n",
    "\n",
    "So if $x$ and $y$ are colinear, solution does not exists."
   ]
  },
  {
   "cell_type": "markdown",
   "metadata": {},
   "source": [
    "# Problem 2 Multi-stock model"
   ]
  },
  {
   "cell_type": "markdown",
   "metadata": {},
   "source": [
    "Consider $n$ stocks with models:"
   ]
  },
  {
   "cell_type": "markdown",
   "metadata": {},
   "source": [
    "$$ S_t^{(k)} = S_0^{(k)} \\cdot exp(\\tilde{\\mu}^{(k)} t + \\sigma^{(k)} B_t^{(k)}) $$"
   ]
  },
  {
   "cell_type": "markdown",
   "metadata": {},
   "source": [
    "Assuming $cov(B_{t}^i,B_{s}^j) = min\\{t,s\\} \\cdot \\rho_{i,j}$ \n",
    "\n",
    "And: \n",
    "$$\\sigma_k B_t^{(k)} = \\sum_{i}^{k} \\sigma_{k,i} W_t^{(i)}$$\n",
    "$$\\sigma^2_k = \\sum_{j}^{min\\{k,j\\}} \\sigma^2_{k,j}$$\n",
    "\n",
    "Or in matrix form: \n",
    "$$\\begin{bmatrix}\n",
    "\\sigma_1 B^{(1)}\\\\\n",
    "\\sigma_2 B^{(2)}\\\\\n",
    "\\sigma_3 B^{(3)}\\\\\n",
    "...\\\\\n",
    "\\sigma_n B^{(n)}\n",
    "\\end{bmatrix}\n",
    "{=}\n",
    "\\begin{bmatrix}\n",
    "\\sigma_{11}  & 0 & 0 &...&0\\\\\n",
    "\\sigma_{21}  & \\sigma_{22} & 0 &...&0\\\\\n",
    "\\sigma_{31} & \\sigma_{32 }&\\sigma_{33} &... &0\\\\\n",
    "...&...&...&...&...\\\\\n",
    "\\sigma_{n1} &\\sigma_{n2} &\\sigma_{n3} &...&\\sigma_{nn}\n",
    "\\end{bmatrix}\n",
    "\\begin{bmatrix}\n",
    "W^{(1)}\\\\\n",
    "W^{(2)}\\\\\n",
    "W^{(3)}\\\\\n",
    "...\\\\\n",
    "W^{(n)}\n",
    "\\end{bmatrix}\n",
    "$$"
   ]
  },
  {
   "cell_type": "markdown",
   "metadata": {},
   "source": [
    "Denote $\\{\\sigma_{i,j}\\}$ as matrix $\\Sigma$, $\\{\\sigma_{i}\\}$ as the vector $\\sigma$. The last equation can be written as:\n",
    "$$diag[\\sigma] B_t = \\Sigma W_t$$\n",
    "\n",
    "For simplicity, subscript t is ommited in this homework.\n",
    "\n",
    "Since cov(W) is just $ t I$:\n",
    "$$ cov(\\Sigma W) = \\Sigma ( tI) \\Sigma^T = t \\cdot \\Sigma \\Sigma^T $$\n",
    "\n",
    "From historical data, $cov(\\sigma \\odot B)$ is directly observable, a.k.a the covariance matrix of stocks log returns.\n",
    "Scale the covariance matrix by $t$, and decompose it into two matrix: $\\Sigma, \\Sigma^T$.\n",
    "Cholesky decomposition is unique, so: \n",
    "\n",
    "\\begin{eqnarray}\n",
    "\\Sigma &=& CholeskyDecompose(cov(diag[\\sigma] B) / t)\n",
    "\\end{eqnarray}"
   ]
  },
  {
   "cell_type": "markdown",
   "metadata": {},
   "source": [
    "In this particular problem, the setup is:\n",
    "$$cov(diag[\\sigma] B) = \\begin{bmatrix}\n",
    "\\sigma_{1}^{2}  & \\rho \\sigma_{1} \\sigma_{2} \\\\\n",
    "\\rho \\sigma_{1} \\sigma_{2}  & \\sigma_{2}^{2} \\\\\n",
    "\\end{bmatrix} t $$"
   ]
  },
  {
   "cell_type": "markdown",
   "metadata": {},
   "source": [
    "From (9) we know:\n",
    "$$\\Sigma = \\begin{bmatrix}\n",
    "\\sigma_{1}  & 0 \\\\\n",
    "\\rho \\sigma_{2} & \\sqrt{1-\\rho^2} \\sigma_{2} \\\\\n",
    "\\end{bmatrix}$$"
   ]
  },
  {
   "cell_type": "markdown",
   "metadata": {},
   "source": [
    "$$B = diag(\\sigma)^{-1}\\Sigma W$$\n",
    "$$W = (diag(\\sigma)^{-1}\\Sigma)^{-1} B$$\n",
    "$$W = diag[\\sigma]\\Sigma^{-1}B$$"
   ]
  },
  {
   "cell_type": "markdown",
   "metadata": {},
   "source": [
    "Denote $diag(\\sigma)^{-1}\\Sigma:= S$\n",
    "\n",
    "$$S = \\begin{bmatrix}\n",
    "1 & 0 \\\\\n",
    "\\rho  & \\sqrt{1-\\rho^2} \\\\\n",
    "\\end{bmatrix}$$\n"
   ]
  },
  {
   "cell_type": "markdown",
   "metadata": {},
   "source": [
    "* Assuming that $\\rho$ is not 1, i.e. these two stocks are different, we have:\n",
    "\n",
    "$$W = S^{-1}B$$\n",
    "$$W = \\frac{1}{\\sqrt{1-\\rho^2}}\\begin{bmatrix}\n",
    "\\sqrt{1-\\rho^2} & 0 \\\\\n",
    "-\\rho  & 1 \\\\\n",
    "\\end{bmatrix} B$$"
   ]
  },
  {
   "cell_type": "markdown",
   "metadata": {},
   "source": [
    "(1) $W$ is a combination of Brownian motions $B$, so $W$ is composed of Brownian motions.\n",
    "\n",
    "(2) The covariance matrix of $W$ is:\n",
    "\n",
    "$$S^{-1}cov(B)(S^{-1})^T = {(\\frac{1}{\\sqrt{1-\\rho^2}})}^2 \\begin{bmatrix}\n",
    " 1-\\rho^2 & 0\\\\\n",
    "0 &  1-\\rho^2 \\\\\n",
    "\\end{bmatrix} t = \\begin{bmatrix}\n",
    "t&0\\\\\n",
    "0&t\\\\\n",
    "\\end{bmatrix}$$\n",
    "\n",
    "* Elements in $W$ **independent standard Brownian motions**."
   ]
  },
  {
   "cell_type": "markdown",
   "metadata": {},
   "source": [
    "* **Comment**:\n",
    "\n",
    "    In Problem 1, given two different unit vectors $x$ and $y$, we can solve for a unit vector $z$ such that $y$ lives in the space tensed by two orthogonal basises $x$ and $z$.\n",
    "\n",
    "    In this problem, S is a matrix composed of two row vectors on a unit sphere. To solve $W = S^{-1}B$ for W, we need S to be full-rank which means the two row unit vectors in $S$ are different.\n",
    "\n",
    "    Both problem leads to the fact that if the information in a two-dimension world can be represented by one vector, we can not recover the underlying brownian motions that drives the events. In stock market, that means two stocks have identical exposure to identical set of factors and the diversity represented by $det(S)$ is 0. Concludsions from Problem 1 and Problem 2 are consistent."
   ]
  },
  {
   "cell_type": "markdown",
   "metadata": {},
   "source": [
    "# Problem 3  Diversified Portfolio? "
   ]
  },
  {
   "cell_type": "code",
   "execution_count": 2,
   "metadata": {
    "collapsed": true
   },
   "outputs": [],
   "source": [
    "import numpy as np #Handle math objects like vectors and matrixs \n",
    "import scipy as sp\n",
    "from scipy.stats import norm # Normal cdf is used\n",
    "import pandas as pd #Contains data from yahoo\n",
    "import matplotlib.pyplot as plt # Seeing is believing! --Thrall\n",
    "from datetime import datetime # Very usefull when you need to operate on date\n",
    "from datetime import timedelta # Very usefull when you need to operate on date\n",
    "from yahoo_finance import Share # API from Yahoo to fetch data\n",
    "%matplotlib inline\n",
    "float_formatter = lambda x: \"%.3f\" % x\n",
    "np.set_printoptions(formatter={'float_kind':float_formatter})\n",
    "pd.options.display.float_format = '{:20,.3f}'.format"
   ]
  },
  {
   "cell_type": "markdown",
   "metadata": {},
   "source": [
    "We choose S&P 500 (ETF), Google, Apple and Amazon."
   ]
  },
  {
   "cell_type": "code",
   "execution_count": 28,
   "metadata": {
    "collapsed": true
   },
   "outputs": [],
   "source": [
    "universe = ['SPY','GOOG','AAPL','AMZN'] # ,'MSFT','IBM','M','MNST','PNC','ROST','COO']\n",
    "\n",
    "n = len(universe)\n",
    "\n",
    "i = datetime.now()\n",
    "j = i - timedelta(days=252*2)\n",
    "currentDate = \"%s-%s-%s\"%(i.year,i.month,i.day)\n",
    "startDate = \"%s-%s-%s\"%(j.year,j.month,j.day)"
   ]
  },
  {
   "cell_type": "markdown",
   "metadata": {},
   "source": [
    "M is the dataframe that stores log returns of all the stocks."
   ]
  },
  {
   "cell_type": "code",
   "execution_count": 6,
   "metadata": {
    "collapsed": false
   },
   "outputs": [],
   "source": [
    "count = 0\n",
    "for symbol in universe:\n",
    "    equity = Share(symbol)\n",
    "    df = pd.DataFrame(equity.get_historical(startDate,currentDate))\n",
    "    df.index = df.Date\n",
    "    df.drop('Date',1,inplace = True)\n",
    "    df.sort_index(inplace = True) # ,ascending = False\n",
    "    df['Adj_Close'] = pd.to_numeric(df['Adj_Close'])\n",
    "    label = symbol#+'_logReturn'\n",
    "    df[label] = np.log(1+df.Adj_Close.diff(1)/df.Adj_Close)\n",
    "#     df.fillna(0,inplace = True)\n",
    "    df.dropna(inplace = True)\n",
    "    \n",
    "    if count==0:\n",
    "        M = df[[label]].copy()\n",
    "    else:\n",
    "        M = M.join(df[[label]])\n",
    "    \n",
    "    count += 1\n"
   ]
  },
  {
   "cell_type": "markdown",
   "metadata": {},
   "source": [
    "### (a) Compute the covariance matrix for the log returns\n"
   ]
  },
  {
   "cell_type": "markdown",
   "metadata": {},
   "source": [
    "Solve the covariance matrix of the stocks ($cov(diag[\\sigma] B)$):\n",
    "$$\\mu^{(k)} = \\bar X^{(k)}-\\sigma^{(k)}$$"
   ]
  },
  {
   "cell_type": "code",
   "execution_count": 82,
   "metadata": {
    "collapsed": false
   },
   "outputs": [
    {
     "name": "stdout",
     "output_type": "stream",
     "text": [
      "SPY                   0.096\n",
      "GOOG                  0.052\n",
      "AAPL                  0.124\n",
      "AMZN                  0.155\n",
      "dtype: float64\n"
     ]
    }
   ],
   "source": [
    "dt = 1/252\n",
    "covMat = np.cov(M.values.T)/dt\n",
    "\n",
    "mu = M.mean()/dt\n",
    "print(mu)"
   ]
  },
  {
   "cell_type": "markdown",
   "metadata": {},
   "source": [
    "Vector $\\sigma$ is the standard deviation of each stock:\n",
    "\n",
    "$$\\sigma = diag[cov(diag[\\sigma] B)]^{\\frac{1}{2}}$$"
   ]
  },
  {
   "cell_type": "code",
   "execution_count": 32,
   "metadata": {
    "collapsed": false
   },
   "outputs": [
    {
     "name": "stdout",
     "output_type": "stream",
     "text": [
      "[0.124 0.190 0.221 0.271]\n"
     ]
    }
   ],
   "source": [
    "sigma = np.diag(covMat)**(0.5)\n",
    "print(sigma)"
   ]
  },
  {
   "cell_type": "markdown",
   "metadata": {},
   "source": [
    "### (b) -(c) Compute $\\rho$, $R$ and $\\Sigma$"
   ]
  },
  {
   "cell_type": "markdown",
   "metadata": {},
   "source": [
    "Perform Cholesky decomposition on $Cov(diag[\\sigma] B)$:"
   ]
  },
  {
   "cell_type": "code",
   "execution_count": 10,
   "metadata": {
    "collapsed": false,
    "scrolled": true
   },
   "outputs": [
    {
     "name": "stdout",
     "output_type": "stream",
     "text": [
      "[[0.124 0.000 0.000 0.000]\n",
      " [0.119 0.149 0.000 0.000]\n",
      " [0.126 0.027 0.180 0.000]\n",
      " [0.133 0.104 0.012 0.212]]\n"
     ]
    }
   ],
   "source": [
    "Sigma = np.linalg.cholesky(covMat)\n",
    "print(Sigma)"
   ]
  },
  {
   "cell_type": "markdown",
   "metadata": {},
   "source": [
    "Recover standard deviation of log returns of stocks $\\sigma_k$ from formula:"
   ]
  },
  {
   "cell_type": "markdown",
   "metadata": {},
   "source": [
    "$$\\sigma^2_k = \\sum_{j}^{min\\{k,j\\}} \\sigma^2_{k,j}$$"
   ]
  },
  {
   "cell_type": "code",
   "execution_count": 14,
   "metadata": {
    "collapsed": false,
    "scrolled": true
   },
   "outputs": [
    {
     "name": "stdout",
     "output_type": "stream",
     "text": [
      "[0.124 0.190 0.221 0.271]\n"
     ]
    }
   ],
   "source": [
    "sigma = np.sum(Sigma**2,axis = 1)**(0.5)\n",
    "print(sigma)"
   ]
  },
  {
   "cell_type": "markdown",
   "metadata": {},
   "source": [
    "It should be consistent with the $\\sigma$ we computed in the last part."
   ]
  },
  {
   "cell_type": "markdown",
   "metadata": {},
   "source": [
    "Recover the corrlation matrx $\\rho$:"
   ]
  },
  {
   "cell_type": "code",
   "execution_count": 35,
   "metadata": {
    "collapsed": false
   },
   "outputs": [
    {
     "name": "stdout",
     "output_type": "stream",
     "text": [
      "[[1.000 0.624 0.570 0.490]\n",
      " [0.624 1.000 0.453 0.606]\n",
      " [0.570 0.453 1.000 0.363]\n",
      " [0.490 0.606 0.363 1.000]]\n"
     ]
    }
   ],
   "source": [
    "ss = np.outer(sigma,sigma)\n",
    "\n",
    "corrMat = covMat/ss\n",
    "print(corrMat)"
   ]
  },
  {
   "cell_type": "markdown",
   "metadata": {},
   "source": [
    "Recover matrix $\\Sigma_R$:\n",
    "\n",
    "$$\\Sigma_R = diag[\\sigma]^{-1} \\Sigma$$"
   ]
  },
  {
   "cell_type": "code",
   "execution_count": 37,
   "metadata": {
    "collapsed": false
   },
   "outputs": [
    {
     "name": "stdout",
     "output_type": "stream",
     "text": [
      "[[1.000 0.000 0.000 0.000]\n",
      " [0.624 0.781 0.000 0.000]\n",
      " [0.570 0.124 0.812 0.000]\n",
      " [0.490 0.384 0.044 0.781]]\n"
     ]
    }
   ],
   "source": [
    "R = np.dot(np.diag(sigma**(-1)),Sigma)\n",
    "print(R)"
   ]
  },
  {
   "cell_type": "markdown",
   "metadata": {},
   "source": [
    "## (d) Measure of diversity $d$:"
   ]
  },
  {
   "cell_type": "markdown",
   "metadata": {},
   "source": [
    "$$ d = det(R)^{1/n}$$"
   ]
  },
  {
   "cell_type": "code",
   "execution_count": 51,
   "metadata": {
    "collapsed": false
   },
   "outputs": [
    {
     "name": "stdout",
     "output_type": "stream",
     "text": [
      "0.839125928067\n"
     ]
    }
   ],
   "source": [
    "d = np.linalg.det(R)**(1/n)\n",
    "print(d)"
   ]
  },
  {
   "cell_type": "markdown",
   "metadata": {},
   "source": [
    "To answer which 2 stocks out of the 3 are the most diversified combination, we can maximize the determinant of the remaining R after removing 1 stocks."
   ]
  },
  {
   "cell_type": "code",
   "execution_count": 80,
   "metadata": {
    "collapsed": false
   },
   "outputs": [
    {
     "name": "stdout",
     "output_type": "stream",
     "text": [
      "If we remove stock 1, d = 0.63443\n",
      "If we remove stock 2, d = 0.61063 \n",
      "If we remove stock 3, d = 0.63454\n"
     ]
    }
   ],
   "source": [
    "print('If we remove stock 1, d = %.5f\\nIf we remove stock 2, d = %.5f \\nIf we remove stock 3, d = %.5f' % (np.product(R[[0,2,3],[0,2,3]]),\n",
    "    np.product(R[[0,1,3],[0,1,3]]),\n",
    "    np.product(R[[0,1,2],[0,1,2]])))"
   ]
  },
  {
   "cell_type": "code",
   "execution_count": 81,
   "metadata": {
    "collapsed": false
   },
   "outputs": [
    {
     "data": {
      "text/plain": [
       "['SPY', 'GOOG', 'AAPL', 'AMZN']"
      ]
     },
     "execution_count": 81,
     "metadata": {},
     "output_type": "execute_result"
    }
   ],
   "source": [
    "universe"
   ]
  },
  {
   "cell_type": "markdown",
   "metadata": {},
   "source": [
    "In concludsion, the second stock (GOOGLE) and the third (APPLE) are the best."
   ]
  }
 ],
 "metadata": {
  "anaconda-cloud": {},
  "kernelspec": {
   "display_name": "Python [conda root]",
   "language": "python",
   "name": "conda-root-py"
  },
  "language_info": {
   "codemirror_mode": {
    "name": "ipython",
    "version": 3
   },
   "file_extension": ".py",
   "mimetype": "text/x-python",
   "name": "python",
   "nbconvert_exporter": "python",
   "pygments_lexer": "ipython3",
   "version": "3.5.2"
  }
 },
 "nbformat": 4,
 "nbformat_minor": 1
}
